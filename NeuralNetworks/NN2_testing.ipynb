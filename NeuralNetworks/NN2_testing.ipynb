{
 "cells": [
  {
   "cell_type": "markdown",
   "metadata": {},
   "source": [
    "## Basic implementation of Neural Network using numpy\n"
   ]
  },
  {
   "cell_type": "code",
   "execution_count": 1,
   "metadata": {},
   "outputs": [],
   "source": [
    "# Use the following command to install required packages\n",
    "\n",
    "# !pip install numpy\n",
    "# !pip install pandas\n",
    "# !pip install matplotlib"
   ]
  },
  {
   "cell_type": "code",
   "execution_count": 2,
   "metadata": {},
   "outputs": [],
   "source": [
    "import numpy as np\n",
    "import pandas as pd\n",
    "import matplotlib.pyplot as plt"
   ]
  },
  {
   "cell_type": "code",
   "execution_count": 37,
   "metadata": {},
   "outputs": [],
   "source": [
    "class Layer:\n",
    "    __slots__ = ['weights', 'biases', 'activation', 'biases_gradient', 'weights_gradient', \"activation_derivative\", \"momentum_biases_gradient\", \"momentum_weights_gradient\"]\n",
    "\n",
    "    def __init__(self, nodes_in, nodes_out, activation='sigmoid'):\n",
    "        self.weights = np.random.normal(size=(nodes_in, nodes_out),scale=1)\n",
    "        self.biases = np.random.normal(size=(1, nodes_out))\n",
    "        self.biases_gradient = np.zeros(self.biases.shape)\n",
    "        self.weights_gradient = np.zeros(self.weights.shape)\n",
    "\n",
    "        # Momentum\n",
    "        self.momentum_biases_gradient = np.zeros(self.biases.shape)\n",
    "        self.momentum_weights_gradient = np.zeros(self.weights.shape)\n",
    "\n",
    "        # Activation function\n",
    "        if activation == 'sigmoid':\n",
    "            self.activation = self.sigmoid\n",
    "            self.activation_derivative = self.sigmoid_derivative\n",
    "        elif activation == 'linear':\n",
    "            self.activation = self.linear\n",
    "            self.activation_derivative = self.linear_derivative\n",
    "\n",
    "    def calculate_layer(self, input):\n",
    "        \"\"\"\n",
    "        Calculate the output of the layer\n",
    "        Takes in a numpy array and returns a numpy array\n",
    "        \"\"\"\n",
    "        return self.activation(np.dot(input, self.weights) + self.biases)\n",
    "\n",
    "    def sigmoid(self, x):\n",
    "        \"\"\"\n",
    "        Sigmoid activation function\n",
    "        Takes in a numpy array and returns a numpy array\n",
    "        \"\"\"\n",
    "        return 1/(1+np.exp(-x))\n",
    "\n",
    "    def sigmoid_derivative(self, x):\n",
    "        \"\"\"\n",
    "        Sigmoid derivative function\n",
    "        Takes in a numpy array and returns a numpy array\n",
    "        \"\"\"\n",
    "        return x * (1 - x)\n",
    "\n",
    "    def linear(self, x):\n",
    "        \"\"\"\n",
    "        Linear activation function\n",
    "        Takes in a numpy array and returns a numpy array\n",
    "        \"\"\"\n",
    "        return x\n",
    "\n",
    "    def linear_derivative(self, x):\n",
    "        \"\"\"\n",
    "        Linear derivative function\n",
    "        Takes in a numpy array and returns a numpy array\n",
    "        \"\"\"\n",
    "        return np.ones_like(x)\n",
    "\n",
    "    def report_layer(self, layer_num):\n",
    "        return f'Layer number {layer_num}\\nWeights\\n{self.weights}\\nbiases\\n{self.biases}'\n",
    "\n",
    "    def apply_gradient(self, learning_rate):\n",
    "        self.weights -= learning_rate * self.weights_gradient\n",
    "        self.biases -= learning_rate * self.biases_gradient\n",
    "\n",
    "    def apply_gradient_momentum(self, learning_rate, beta =0.9):\n",
    "        self.momentum_biases_gradient = (\n",
    "            beta * self.momentum_biases_gradient + (1-beta) * self.biases_gradient\n",
    "        )\n",
    "        self.momentum_weights_gradient = (beta * self.momentum_weights_gradient\n",
    "            + (1-beta) * self.weights_gradient\n",
    "        )\n",
    "        self.weights -= self.momentum_weights_gradient * learning_rate\n",
    "        self.biases -= self.momentum_biases_gradient * learning_rate "
   ]
  },
  {
   "cell_type": "code",
   "execution_count": 38,
   "metadata": {},
   "outputs": [],
   "source": [
    "class NeuralNetwork:\n",
    "    __slots__ = ['hidden_layers', 'layers']\n",
    "\n",
    "    def __init__(self, hidden_layers, input_size, output_size):\n",
    "        self.hidden_layers = hidden_layers\n",
    "        self.layers = []\n",
    "\n",
    "        # Create the input layer\n",
    "        input_layer = Layer(1, hidden_layers[0])\n",
    "        self.layers.append(input_layer)\n",
    "\n",
    "        # Create the hidden layers\n",
    "        for input_size, output_size in zip(hidden_layers, hidden_layers[1:]):\n",
    "            self.layers.append(Layer(input_size, output_size))\n",
    "\n",
    "        # Create the output layer\n",
    "        output_layer = Layer(hidden_layers[-1], 1, activation='linear')\n",
    "        self.layers.append(output_layer)\n",
    "\n",
    "    def forward(self, input):\n",
    "        \"\"\"\n",
    "        Takes a input and returns the output of the network\n",
    "        \"\"\"\n",
    "        for layer in self.layers:\n",
    "            input = layer.calculate_layer(input)\n",
    "        return input\n",
    "\n",
    "    def train(self, input, output, learning_rate=0.003, batch_size_frac=0.1):\n",
    "        \"\"\"\n",
    "        Train the network on a given dataset\n",
    "        \"\"\"\n",
    "        best = float('inf')\n",
    "        counter = 0\n",
    "        while best > 4:\n",
    "            merged = input.to_frame().join(output)\n",
    "            merged = merged.sample(frac=batch_size_frac)\n",
    "            self.calculate_gradient(merged[\"x\"], merged[\"y\"])\n",
    "            self.apply_gradient(learning_rate, with_momentum=True)\n",
    "            curr = self.mean_squared_error(input, output)\n",
    "            if curr < best:\n",
    "                best = curr\n",
    "            counter += 1\n",
    "            if counter % 1000 == 0:\n",
    "                print(f'Current mean squared error: {best}, counter: {counter}')\n",
    "                print(f'current momentum weights gradient: {self.layers[0].momentum_weights_gradient}')\n",
    "\n",
    "    def backpropagation(self, input, output):\n",
    "        \"\"\"\n",
    "        Perform backpropagation on the network\n",
    "        \"\"\"\n",
    "        pass\n",
    "\n",
    "    def mean_squared_error(self, input, output):\n",
    "        \"\"\"\n",
    "        Calculate the mean squared error of the network on a given dataset and output\n",
    "        \"\"\"\n",
    "        mse = []\n",
    "        for i,j in zip(input, output):\n",
    "            mse.append((j - self.forward(i)) ** 2)\n",
    "        return np.mean(mse)\n",
    "\n",
    "    def mean_squared_error_gradient(self, predicted, true):\n",
    "        \"\"\"\n",
    "        Calculate the gradient of the mean squared error\n",
    "        \"\"\"\n",
    "        return 2 * (predicted - true)\n",
    "\n",
    "    def visualize(self):\n",
    "        \"\"\"\n",
    "        Visualize the network architecture\n",
    "        \"\"\"\n",
    "        for i, layer in enumerate(self.layers):\n",
    "            print(layer.report_layer(i))\n",
    "            print(\"\\n\")\n",
    "\n",
    "    def apply_gradient(self, learning_rate, with_momentum = False):\n",
    "        if with_momentum:\n",
    "            for layer in self.layers:\n",
    "                layer.apply_gradient_momentum(learning_rate)\n",
    "        else:\n",
    "            for layer in self.layers:\n",
    "                layer.apply_gradient(learning_rate)\n",
    "\n",
    "    def calculate_gradient(self, input, output):\n",
    "        \"\"\"\n",
    "        Calculate the gradient of the network\n",
    "        \"\"\"\n",
    "        h = 0.0001\n",
    "        original_mse = self.mean_squared_error(input, output)\n",
    "\n",
    "        for layer in self.layers:\n",
    "            for i in range(layer.weights.shape[0]):\n",
    "                for j in range(layer.weights.shape[1]):\n",
    "                    layer.weights[i, j] += h\n",
    "                    new_mse = self.mean_squared_error(input, output)\n",
    "                    layer.weights_gradient[i, j] = (new_mse - original_mse) / h\n",
    "                    layer.weights[i, j] -= h\n",
    "\n",
    "            for i in range(layer.biases.shape[0]):\n",
    "                for j in range(layer.biases.shape[1]):\n",
    "                    layer.biases[i, j] += h\n",
    "                    new_mse = self.mean_squared_error(input, output)\n",
    "                    layer.biases_gradient[i, j] = (new_mse - original_mse) / h\n",
    "                    layer.biases[i, j] -= h"
   ]
  },
  {
   "cell_type": "markdown",
   "metadata": {},
   "source": [
    "# First set"
   ]
  },
  {
   "cell_type": "code",
   "execution_count": 22,
   "metadata": {},
   "outputs": [],
   "source": [
    "square_simple = pd.read_csv('../data/regression/square-simple-test.csv', index_col=0)"
   ]
  },
  {
   "cell_type": "code",
   "execution_count": 23,
   "metadata": {},
   "outputs": [
    {
     "data": {
      "text/html": [
       "<div>\n",
       "<style scoped>\n",
       "    .dataframe tbody tr th:only-of-type {\n",
       "        vertical-align: middle;\n",
       "    }\n",
       "\n",
       "    .dataframe tbody tr th {\n",
       "        vertical-align: top;\n",
       "    }\n",
       "\n",
       "    .dataframe thead th {\n",
       "        text-align: right;\n",
       "    }\n",
       "</style>\n",
       "<table border=\"1\" class=\"dataframe\">\n",
       "  <thead>\n",
       "    <tr style=\"text-align: right;\">\n",
       "      <th></th>\n",
       "      <th>x</th>\n",
       "      <th>y</th>\n",
       "    </tr>\n",
       "  </thead>\n",
       "  <tbody>\n",
       "    <tr>\n",
       "      <th>1</th>\n",
       "      <td>-0.980437</td>\n",
       "      <td>-43.486918</td>\n",
       "    </tr>\n",
       "    <tr>\n",
       "      <th>2</th>\n",
       "      <td>-1.219074</td>\n",
       "      <td>3.752808</td>\n",
       "    </tr>\n",
       "    <tr>\n",
       "      <th>3</th>\n",
       "      <td>0.124243</td>\n",
       "      <td>-128.610721</td>\n",
       "    </tr>\n",
       "    <tr>\n",
       "      <th>4</th>\n",
       "      <td>1.227789</td>\n",
       "      <td>5.671828</td>\n",
       "    </tr>\n",
       "    <tr>\n",
       "      <th>5</th>\n",
       "      <td>1.067348</td>\n",
       "      <td>-27.469169</td>\n",
       "    </tr>\n",
       "    <tr>\n",
       "      <th>...</th>\n",
       "      <td>...</td>\n",
       "      <td>...</td>\n",
       "    </tr>\n",
       "    <tr>\n",
       "      <th>96</th>\n",
       "      <td>1.315377</td>\n",
       "      <td>25.719403</td>\n",
       "    </tr>\n",
       "    <tr>\n",
       "      <th>97</th>\n",
       "      <td>-1.196968</td>\n",
       "      <td>-1.054107</td>\n",
       "    </tr>\n",
       "    <tr>\n",
       "      <th>98</th>\n",
       "      <td>1.544766</td>\n",
       "      <td>84.767303</td>\n",
       "    </tr>\n",
       "    <tr>\n",
       "      <th>99</th>\n",
       "      <td>0.441051</td>\n",
       "      <td>-112.492699</td>\n",
       "    </tr>\n",
       "    <tr>\n",
       "      <th>100</th>\n",
       "      <td>-0.025176</td>\n",
       "      <td>-129.942957</td>\n",
       "    </tr>\n",
       "  </tbody>\n",
       "</table>\n",
       "<p>100 rows × 2 columns</p>\n",
       "</div>"
      ],
      "text/plain": [
       "            x           y\n",
       "1   -0.980437  -43.486918\n",
       "2   -1.219074    3.752808\n",
       "3    0.124243 -128.610721\n",
       "4    1.227789    5.671828\n",
       "5    1.067348  -27.469169\n",
       "..        ...         ...\n",
       "96   1.315377   25.719403\n",
       "97  -1.196968   -1.054107\n",
       "98   1.544766   84.767303\n",
       "99   0.441051 -112.492699\n",
       "100 -0.025176 -129.942957\n",
       "\n",
       "[100 rows x 2 columns]"
      ]
     },
     "execution_count": 23,
     "metadata": {},
     "output_type": "execute_result"
    },
    {
     "data": {
      "image/png": "[encoded data removed]",
      "text/plain": [
       "<Figure size 640x480 with 1 Axes>"
      ]
     },
     "metadata": {},
     "output_type": "display_data"
    }
   ],
   "source": [
    "# scater plot of the data\n",
    "plt.scatter(square_simple['x'], square_simple['y'])\n",
    "square_simple"
   ]
  },
  {
   "cell_type": "code",
   "execution_count": 39,
   "metadata": {},
   "outputs": [
    {
     "name": "stdout",
     "output_type": "stream",
     "text": [
      "Current mean squared error: 1971.9926018755186, counter: 1000\n",
      "current momentum weights gradient: [[-0.90728048 -0.94240598  0.26255614  0.68074227  0.47571945]]\n",
      "Current mean squared error: 1794.6673785383769, counter: 2000\n",
      "current momentum weights gradient: [[0.24299904 0.27212695 0.48075155 0.01392498 0.88647501]]\n",
      "Current mean squared error: 1756.7715730111129, counter: 3000\n",
      "current momentum weights gradient: [[ 2.18924585  3.11481845 -0.14576364 -0.80865283 -0.28407426]]\n",
      "Current mean squared error: 1741.5275142887936, counter: 4000\n",
      "current momentum weights gradient: [[ 0.25126051 -0.55940603  0.32171297  0.59501594  0.29915762]]\n",
      "Current mean squared error: 1733.894663164148, counter: 5000\n",
      "current momentum weights gradient: [[-0.63450366 -0.5081802   0.2744591   0.18321614  0.1702402 ]]\n",
      "Current mean squared error: 1729.7409634218152, counter: 6000\n",
      "current momentum weights gradient: [[-0.53672711 -0.7110585   0.19472674  0.8602603  -0.09823097]]\n",
      "Current mean squared error: 1727.2154511171789, counter: 7000\n",
      "current momentum weights gradient: [[ 0.31654254 -0.37220344 -0.2200191  -0.2034048   0.01537248]]\n",
      "Current mean squared error: 1725.4941178434663, counter: 8000\n",
      "current momentum weights gradient: [[-0.28017231 -0.84750396  0.21093081 -0.13548511 -0.11225833]]\n"
     ]
    },
    {
     "ename": "KeyboardInterrupt",
     "evalue": "",
     "output_type": "error",
     "traceback": [
      "\u001b[0;31m---------------------------------------------------------------------------\u001b[0m",
      "\u001b[0;31mKeyboardInterrupt\u001b[0m                         Traceback (most recent call last)",
      "Cell \u001b[0;32mIn[39], line 3\u001b[0m\n\u001b[1;32m      1\u001b[0m neural1 \u001b[38;5;241m=\u001b[39m NeuralNetwork([\u001b[38;5;241m5\u001b[39m], \u001b[38;5;241m1\u001b[39m, \u001b[38;5;241m1\u001b[39m)\n\u001b[1;32m      2\u001b[0m neural1\u001b[38;5;241m.\u001b[39mmean_squared_error(square_simple[\u001b[38;5;124m\"\u001b[39m\u001b[38;5;124mx\u001b[39m\u001b[38;5;124m\"\u001b[39m], square_simple[\u001b[38;5;124m\"\u001b[39m\u001b[38;5;124my\u001b[39m\u001b[38;5;124m\"\u001b[39m])\n\u001b[0;32m----> 3\u001b[0m \u001b[43mneural1\u001b[49m\u001b[38;5;241;43m.\u001b[39;49m\u001b[43mtrain\u001b[49m\u001b[43m(\u001b[49m\u001b[43msquare_simple\u001b[49m\u001b[43m[\u001b[49m\u001b[38;5;124;43m\"\u001b[39;49m\u001b[38;5;124;43mx\u001b[39;49m\u001b[38;5;124;43m\"\u001b[39;49m\u001b[43m]\u001b[49m\u001b[43m,\u001b[49m\u001b[43m \u001b[49m\u001b[43msquare_simple\u001b[49m\u001b[43m[\u001b[49m\u001b[38;5;124;43m\"\u001b[39;49m\u001b[38;5;124;43my\u001b[39;49m\u001b[38;5;124;43m\"\u001b[39;49m\u001b[43m]\u001b[49m\u001b[43m,\u001b[49m\u001b[43m \u001b[49m\u001b[43mlearning_rate\u001b[49m\u001b[38;5;241;43m=\u001b[39;49m\u001b[38;5;241;43m0.01\u001b[39;49m\u001b[43m,\u001b[49m\u001b[43m \u001b[49m\u001b[43mbatch_size_frac\u001b[49m\u001b[38;5;241;43m=\u001b[39;49m\u001b[38;5;241;43m0.5\u001b[39;49m\u001b[43m)\u001b[49m\n\u001b[1;32m      4\u001b[0m neural1\u001b[38;5;241m.\u001b[39mmean_squared_error(square_simple[\u001b[38;5;124m\"\u001b[39m\u001b[38;5;124mx\u001b[39m\u001b[38;5;124m\"\u001b[39m], square_simple[\u001b[38;5;124m\"\u001b[39m\u001b[38;5;124my\u001b[39m\u001b[38;5;124m\"\u001b[39m])\n",
      "Cell \u001b[0;32mIn[38], line 37\u001b[0m, in \u001b[0;36mNeuralNetwork.train\u001b[0;34m(self, input, output, learning_rate, batch_size_frac)\u001b[0m\n\u001b[1;32m     35\u001b[0m merged \u001b[38;5;241m=\u001b[39m \u001b[38;5;28minput\u001b[39m\u001b[38;5;241m.\u001b[39mto_frame()\u001b[38;5;241m.\u001b[39mjoin(output)\n\u001b[1;32m     36\u001b[0m merged \u001b[38;5;241m=\u001b[39m merged\u001b[38;5;241m.\u001b[39msample(frac\u001b[38;5;241m=\u001b[39mbatch_size_frac)\n\u001b[0;32m---> 37\u001b[0m \u001b[38;5;28;43mself\u001b[39;49m\u001b[38;5;241;43m.\u001b[39;49m\u001b[43mcalculate_gradient\u001b[49m\u001b[43m(\u001b[49m\u001b[43mmerged\u001b[49m\u001b[43m[\u001b[49m\u001b[38;5;124;43m\"\u001b[39;49m\u001b[38;5;124;43mx\u001b[39;49m\u001b[38;5;124;43m\"\u001b[39;49m\u001b[43m]\u001b[49m\u001b[43m,\u001b[49m\u001b[43m \u001b[49m\u001b[43mmerged\u001b[49m\u001b[43m[\u001b[49m\u001b[38;5;124;43m\"\u001b[39;49m\u001b[38;5;124;43my\u001b[39;49m\u001b[38;5;124;43m\"\u001b[39;49m\u001b[43m]\u001b[49m\u001b[43m)\u001b[49m\n\u001b[1;32m     38\u001b[0m \u001b[38;5;28mself\u001b[39m\u001b[38;5;241m.\u001b[39mapply_gradient(learning_rate, with_momentum\u001b[38;5;241m=\u001b[39m\u001b[38;5;28;01mTrue\u001b[39;00m)\n\u001b[1;32m     39\u001b[0m curr \u001b[38;5;241m=\u001b[39m \u001b[38;5;28mself\u001b[39m\u001b[38;5;241m.\u001b[39mmean_squared_error(\u001b[38;5;28minput\u001b[39m, output)\n",
      "Cell \u001b[0;32mIn[38], line 95\u001b[0m, in \u001b[0;36mNeuralNetwork.calculate_gradient\u001b[0;34m(self, input, output)\u001b[0m\n\u001b[1;32m     93\u001b[0m \u001b[38;5;28;01mfor\u001b[39;00m j \u001b[38;5;129;01min\u001b[39;00m \u001b[38;5;28mrange\u001b[39m(layer\u001b[38;5;241m.\u001b[39mweights\u001b[38;5;241m.\u001b[39mshape[\u001b[38;5;241m1\u001b[39m]):\n\u001b[1;32m     94\u001b[0m     layer\u001b[38;5;241m.\u001b[39mweights[i, j] \u001b[38;5;241m+\u001b[39m\u001b[38;5;241m=\u001b[39m h\n\u001b[0;32m---> 95\u001b[0m     new_mse \u001b[38;5;241m=\u001b[39m \u001b[38;5;28;43mself\u001b[39;49m\u001b[38;5;241;43m.\u001b[39;49m\u001b[43mmean_squared_error\u001b[49m\u001b[43m(\u001b[49m\u001b[38;5;28;43minput\u001b[39;49m\u001b[43m,\u001b[49m\u001b[43m \u001b[49m\u001b[43moutput\u001b[49m\u001b[43m)\u001b[49m\n\u001b[1;32m     96\u001b[0m     layer\u001b[38;5;241m.\u001b[39mweights_gradient[i, j] \u001b[38;5;241m=\u001b[39m (new_mse \u001b[38;5;241m-\u001b[39m original_mse) \u001b[38;5;241m/\u001b[39m h\n\u001b[1;32m     97\u001b[0m     layer\u001b[38;5;241m.\u001b[39mweights[i, j] \u001b[38;5;241m-\u001b[39m\u001b[38;5;241m=\u001b[39m h\n",
      "Cell \u001b[0;32mIn[38], line 59\u001b[0m, in \u001b[0;36mNeuralNetwork.mean_squared_error\u001b[0;34m(self, input, output)\u001b[0m\n\u001b[1;32m     57\u001b[0m mse \u001b[38;5;241m=\u001b[39m []\n\u001b[1;32m     58\u001b[0m \u001b[38;5;28;01mfor\u001b[39;00m i,j \u001b[38;5;129;01min\u001b[39;00m \u001b[38;5;28mzip\u001b[39m(\u001b[38;5;28minput\u001b[39m, output):\n\u001b[0;32m---> 59\u001b[0m     mse\u001b[38;5;241m.\u001b[39mappend((j \u001b[38;5;241m-\u001b[39m \u001b[38;5;28;43mself\u001b[39;49m\u001b[38;5;241;43m.\u001b[39;49m\u001b[43mforward\u001b[49m\u001b[43m(\u001b[49m\u001b[43mi\u001b[49m\u001b[43m)\u001b[49m) \u001b[38;5;241m*\u001b[39m\u001b[38;5;241m*\u001b[39m \u001b[38;5;241m2\u001b[39m)\n\u001b[1;32m     60\u001b[0m \u001b[38;5;28;01mreturn\u001b[39;00m np\u001b[38;5;241m.\u001b[39mmean(mse)\n",
      "Cell \u001b[0;32mIn[38], line 25\u001b[0m, in \u001b[0;36mNeuralNetwork.forward\u001b[0;34m(self, input)\u001b[0m\n\u001b[1;32m     21\u001b[0m \u001b[38;5;250m\u001b[39m\u001b[38;5;124;03m\"\"\"\u001b[39;00m\n\u001b[1;32m     22\u001b[0m \u001b[38;5;124;03mTakes a input and returns the output of the network\u001b[39;00m\n\u001b[1;32m     23\u001b[0m \u001b[38;5;124;03m\"\"\"\u001b[39;00m\n\u001b[1;32m     24\u001b[0m \u001b[38;5;28;01mfor\u001b[39;00m layer \u001b[38;5;129;01min\u001b[39;00m \u001b[38;5;28mself\u001b[39m\u001b[38;5;241m.\u001b[39mlayers:\n\u001b[0;32m---> 25\u001b[0m     \u001b[38;5;28minput\u001b[39m \u001b[38;5;241m=\u001b[39m \u001b[43mlayer\u001b[49m\u001b[38;5;241;43m.\u001b[39;49m\u001b[43mcalculate_layer\u001b[49m\u001b[43m(\u001b[49m\u001b[38;5;28;43minput\u001b[39;49m\u001b[43m)\u001b[49m\n\u001b[1;32m     26\u001b[0m \u001b[38;5;28;01mreturn\u001b[39;00m \u001b[38;5;28minput\u001b[39m\n",
      "Cell \u001b[0;32mIn[37], line 27\u001b[0m, in \u001b[0;36mLayer.calculate_layer\u001b[0;34m(self, input)\u001b[0m\n\u001b[1;32m     22\u001b[0m \u001b[38;5;28;01mdef\u001b[39;00m \u001b[38;5;21mcalculate_layer\u001b[39m(\u001b[38;5;28mself\u001b[39m, \u001b[38;5;28minput\u001b[39m):\n\u001b[1;32m     23\u001b[0m \u001b[38;5;250m    \u001b[39m\u001b[38;5;124;03m\"\"\"\u001b[39;00m\n\u001b[1;32m     24\u001b[0m \u001b[38;5;124;03m    Calculate the output of the layer\u001b[39;00m\n\u001b[1;32m     25\u001b[0m \u001b[38;5;124;03m    Takes in a numpy array and returns a numpy array\u001b[39;00m\n\u001b[1;32m     26\u001b[0m \u001b[38;5;124;03m    \"\"\"\u001b[39;00m\n\u001b[0;32m---> 27\u001b[0m     \u001b[38;5;28;01mreturn\u001b[39;00m \u001b[38;5;28;43mself\u001b[39;49m\u001b[38;5;241;43m.\u001b[39;49m\u001b[43mactivation\u001b[49m\u001b[43m(\u001b[49m\u001b[43mnp\u001b[49m\u001b[38;5;241;43m.\u001b[39;49m\u001b[43mdot\u001b[49m\u001b[43m(\u001b[49m\u001b[38;5;28;43minput\u001b[39;49m\u001b[43m,\u001b[49m\u001b[43m \u001b[49m\u001b[38;5;28;43mself\u001b[39;49m\u001b[38;5;241;43m.\u001b[39;49m\u001b[43mweights\u001b[49m\u001b[43m)\u001b[49m\u001b[43m \u001b[49m\u001b[38;5;241;43m+\u001b[39;49m\u001b[43m \u001b[49m\u001b[38;5;28;43mself\u001b[39;49m\u001b[38;5;241;43m.\u001b[39;49m\u001b[43mbiases\u001b[49m\u001b[43m)\u001b[49m\n",
      "Cell \u001b[0;32mIn[37], line 34\u001b[0m, in \u001b[0;36mLayer.sigmoid\u001b[0;34m(self, x)\u001b[0m\n\u001b[1;32m     29\u001b[0m \u001b[38;5;28;01mdef\u001b[39;00m \u001b[38;5;21msigmoid\u001b[39m(\u001b[38;5;28mself\u001b[39m, x):\n\u001b[1;32m     30\u001b[0m \u001b[38;5;250m    \u001b[39m\u001b[38;5;124;03m\"\"\"\u001b[39;00m\n\u001b[1;32m     31\u001b[0m \u001b[38;5;124;03m    Sigmoid activation function\u001b[39;00m\n\u001b[1;32m     32\u001b[0m \u001b[38;5;124;03m    Takes in a numpy array and returns a numpy array\u001b[39;00m\n\u001b[1;32m     33\u001b[0m \u001b[38;5;124;03m    \"\"\"\u001b[39;00m\n\u001b[0;32m---> 34\u001b[0m     \u001b[38;5;28;01mreturn\u001b[39;00m \u001b[38;5;241m1\u001b[39m\u001b[38;5;241m/\u001b[39m(\u001b[38;5;241m1\u001b[39m\u001b[38;5;241m+\u001b[39m\u001b[43mnp\u001b[49m\u001b[38;5;241;43m.\u001b[39;49m\u001b[43mexp\u001b[49m\u001b[43m(\u001b[49m\u001b[38;5;241;43m-\u001b[39;49m\u001b[43mx\u001b[49m\u001b[43m)\u001b[49m)\n",
      "\u001b[0;31mKeyboardInterrupt\u001b[0m: "
     ]
    }
   ],
   "source": [
    "neural1 = NeuralNetwork([5], 1, 1)\n",
    "neural1.mean_squared_error(square_simple[\"x\"], square_simple[\"y\"])\n",
    "neural1.train(square_simple[\"x\"], square_simple[\"y\"], learning_rate=0.01, batch_size_frac=0.5)\n",
    "neural1.mean_squared_error(square_simple[\"x\"], square_simple[\"y\"])"
   ]
  },
  {
   "cell_type": "code",
   "execution_count": 15,
   "metadata": {},
   "outputs": [
    {
     "name": "stdout",
     "output_type": "stream",
     "text": [
      "Layer number 0\n",
      "Weights\n",
      "[[-16.040207   -11.43956078  -6.08054423  -7.28785562  -9.05298728]]\n",
      "biases\n",
      "[[29.47087121 17.58866772 -5.44096437  5.16290323 10.65264015]]\n",
      "\n",
      "\n",
      "Layer number 1\n",
      "Weights\n",
      "[[-91.65974949]\n",
      " [-91.53915153]\n",
      " [165.41572869]\n",
      " [-78.23763898]\n",
      " [-85.35096495]]\n",
      "biases\n",
      "[[222.68205994]]\n",
      "\n",
      "\n",
      "None\n"
     ]
    },
    {
     "data": {
      "image/png": "[encoded data removed]",
      "text/plain": [
       "<Figure size 640x480 with 1 Axes>"
      ]
     },
     "metadata": {},
     "output_type": "display_data"
    }
   ],
   "source": [
    "y = []\n",
    "for i in square_simple[\"x\"]:\n",
    "    y.append(neural1.forward(i))\n",
    "plt.scatter(square_simple[\"x\"], y, c=\"red\")\n",
    "plt.scatter(square_simple[\"x\"], square_simple[\"y\"], c=\"blue\")\n",
    "plt.legend([\"Prediction\", \"True\"])\n",
    "print(neural1.visualize())"
   ]
  },
  {
   "cell_type": "code",
   "execution_count": null,
   "metadata": {},
   "outputs": [],
   "source": [
    "neural2 = NeuralNetwork([10], 1, 1)\n",
    "neural2.mean_squared_error(square_simple['x'], square_simple['y'])\n",
    "neural2.train(square_simple[\"x\"], square_simple[\"y\"], learning_rate=0.002, batch_size_frac=0.05)\n",
    "neural2.mean_squared_error(square_simple[\"x\"], square_simple[\"y\"])"
   ]
  },
  {
   "cell_type": "code",
   "execution_count": null,
   "metadata": {},
   "outputs": [],
   "source": [
    "y = []\n",
    "for i in square_simple[\"x\"]:\n",
    "    y.append(neural2.forward(i))\n",
    "plt.scatter(square_simple[\"x\"], y)"
   ]
  },
  {
   "cell_type": "code",
   "execution_count": null,
   "metadata": {},
   "outputs": [],
   "source": [
    "neural3 = NeuralNetwork([5, 5], 1, 1)\n",
    "neural3.mean_squared_error(square_simple['x'], square_simple['y'])\n",
    "# neural3.train(square_simple[\"x\"], square_simple[\"y\"])\n",
    "# neural3.mean_squared_error(square_simple[\"x\"], square_simple[\"y\"])"
   ]
  },
  {
   "cell_type": "markdown",
   "metadata": {},
   "source": [
    "# Second set"
   ]
  },
  {
   "cell_type": "code",
   "execution_count": null,
   "metadata": {},
   "outputs": [],
   "source": [
    "steps_large = pd.read_csv(\"../data/regression/steps-large-test.csv\", index_col=0)\n",
    "plt.scatter(steps_large[\"x\"], steps_large[\"y\"])"
   ]
  },
  {
   "cell_type": "code",
   "execution_count": null,
   "metadata": {},
   "outputs": [],
   "source": [
    "neural4 = NeuralNetwork([5], 1, 1)\n",
    "neural4.mean_squared_error(steps_large[\"x\"], steps_large[\"y\"])\n",
    "neural4.train(steps_large[\"x\"], steps_large[\"y\"])\n",
    "neural4.mean_squared_error(steps_large[\"x\"], steps_large[\"y\"])"
   ]
  },
  {
   "cell_type": "code",
   "execution_count": null,
   "metadata": {},
   "outputs": [],
   "source": [
    "neural5 = NeuralNetwork([10], 1, 1)\n",
    "neural5.mean_squared_error(steps_large[\"x\"], steps_large[\"y\"])\n",
    "# neural5.train(steps_large[\"x\"], steps_large[\"y\"])\n",
    "# neural5.mean_squared_error(steps_large[\"x\"], steps_large[\"y\"])"
   ]
  },
  {
   "cell_type": "code",
   "execution_count": null,
   "metadata": {},
   "outputs": [],
   "source": [
    "neural6 = NeuralNetwork([5,5], 1, 1)\n",
    "neural6.mean_squared_error(steps_large[\"x\"], steps_large[\"y\"])"
   ]
  },
  {
   "cell_type": "code",
   "execution_count": null,
   "metadata": {},
   "outputs": [],
   "source": []
  }
 ],
 "metadata": {
  "kernelspec": {
   "display_name": "Python 3 (ipykernel)",
   "language": "python",
   "name": "python3"
  },
  "language_info": {
   "codemirror_mode": {
    "name": "ipython",
    "version": 3
   },
   "file_extension": ".py",
   "mimetype": "text/x-python",
   "name": "python",
   "nbconvert_exporter": "python",
   "pygments_lexer": "ipython3",
   "version": "3.10.4"
  }
 },
 "nbformat": 4,
 "nbformat_minor": 2
}
