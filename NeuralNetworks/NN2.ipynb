{
 "cells": [
  {
   "cell_type": "markdown",
   "metadata": {},
   "source": [
    "## Basic implementation of Neural Network using numpy\n"
   ]
  },
  {
   "cell_type": "code",
   "execution_count": 2,
   "metadata": {},
   "outputs": [],
   "source": [
    "# Use the following command to install required packages\n",
    "\n",
    "# !pip install numpy\n",
    "# !pip install pandas\n",
    "# !pip install matplotlib"
   ]
  },
  {
   "cell_type": "code",
   "execution_count": 3,
   "metadata": {},
   "outputs": [],
   "source": [
    "import numpy as np\n",
    "import pandas as pd\n",
    "import matplotlib.pyplot as plt"
   ]
  },
  {
   "cell_type": "code",
   "execution_count": 9,
   "metadata": {},
   "outputs": [],
   "source": [
    "class Layer:\n",
    "    __slots__ = ['weights', 'biases', 'activation', 'biases_gradient', 'weights_gradient']\n",
    "\n",
    "    def __init__(self, nodes_in, nodes_out, activation='sigmoid'):\n",
    "        self.weights = np.random.normal(size=(nodes_in, nodes_out))\n",
    "        self.biases = np.random.normal(size=(1, nodes_out))\n",
    "        self.biases_gradient = np.zeros(self.biases.shape)\n",
    "        self.weights_gradient = np.zeros(self.weights.shape)\n",
    "        if activation == 'sigmoid':\n",
    "            self.activation = self.sigmoid\n",
    "        elif activation == 'linear':\n",
    "            self.activation = self.linear\n",
    "\n",
    "    def calculate_layer(self, input):\n",
    "        \"\"\"\n",
    "        Calculate the output of the layer\n",
    "        Takes in a numpy array and returns a numpy array\n",
    "        \"\"\"\n",
    "        return self.activation(np.dot(input, self.weights) + self.biases)\n",
    "\n",
    "    def sigmoid(self, x):\n",
    "        \"\"\"\n",
    "        Sigmoid activation function\n",
    "        Takes in a numpy array and returns a numpy array\n",
    "        \"\"\"\n",
    "        return 1/(1+np.exp(-x))\n",
    "\n",
    "    def linear(self, x):\n",
    "        \"\"\"\n",
    "        Linear activation function\n",
    "        Takes in a numpy array and returns a numpy array\n",
    "        \"\"\"\n",
    "        return x\n",
    "    \n",
    "    def report_layer(self, layer_num):\n",
    "        return f'Layer number {layer_num}\\nWeights\\n{self.weights}\\nbiases\\n{self.biases}'\n",
    "    \n",
    "    def apply_gradient(self, learning_rate):\n",
    "        self.weights -= learning_rate * self.weights_gradient\n",
    "        self.biases -= learning_rate * self.biases_gradient"
   ]
  },
  {
   "cell_type": "code",
   "execution_count": 5,
   "metadata": {},
   "outputs": [],
   "source": [
    "class NeuralNetwork:\n",
    "    __slots__ = ['hidden_layers', 'layers']\n",
    "\n",
    "    def __init__(self, hidden_layers, input_size, output_size):\n",
    "        self.hidden_layers = hidden_layers\n",
    "        self.layers = []\n",
    "\n",
    "        # Create the input layer\n",
    "        input_layer = Layer(1, hidden_layers[0])\n",
    "        self.layers.append(input_layer)\n",
    "\n",
    "        # Create the hidden layers\n",
    "        for input_size, output_size in zip(hidden_layers, hidden_layers[1:]):\n",
    "            self.layers.append(Layer(input_size, output_size))\n",
    "\n",
    "        # Create the output layer\n",
    "        output_layer = Layer(hidden_layers[-1], 1, activation='linear')\n",
    "        self.layers.append(output_layer)\n",
    "\n",
    "    def forward(self, input):\n",
    "        \"\"\"\n",
    "        Takes a input and returns the output of the network\n",
    "        \"\"\"\n",
    "        for layer in self.layers:\n",
    "            input = layer.calculate_layer(input)\n",
    "        return input\n",
    "\n",
    "    def train(self, input, output, learning_rate=0.01):\n",
    "        \"\"\"\n",
    "        Train the network on a given dataset\n",
    "        \"\"\"\n",
    "        for i in range(1000):\n",
    "            self.calculate_gradient(input, output)\n",
    "            self.apply_gradient(learning_rate)\n",
    "            if i % 50 == 0:\n",
    "                print(f'Epoch {i} MSE: {self.mean_squared_error(input, output)}')\n",
    "\n",
    "    def backpropagation(self, input, output, learning_rate=0.1):\n",
    "        \"\"\"\n",
    "        Perform backpropagation on the network\n",
    "        \"\"\"\n",
    "        pass\n",
    "\n",
    "    def mean_squared_error(self, input, output):\n",
    "        \"\"\"\n",
    "        Calculate the mean squared error of the network on a given dataset and output\n",
    "        \"\"\"\n",
    "        mse = []\n",
    "        for i,j in zip(input, output):\n",
    "            mse.append((j - self.forward(i)) ** 2)\n",
    "        return np.mean(mse)\n",
    "\n",
    "    def visualize(self):\n",
    "        \"\"\"\n",
    "        Visualize the network architecture\n",
    "        \"\"\"\n",
    "        for i, layer in enumerate(self.layers):\n",
    "            print(layer.report_layer(i))\n",
    "            print(\"\\n\")\n",
    "\n",
    "    def apply_gradient(self, learning_rate):\n",
    "        for layer in self.layers:\n",
    "            layer.apply_gradient(learning_rate)\n",
    "\n",
    "    def calculate_gradient(self, input, output):\n",
    "        \"\"\"\n",
    "        Calculate the gradient of the network\n",
    "        \"\"\"\n",
    "        h = 0.0001\n",
    "        original_mse = self.mean_squared_error(input, output)\n",
    "\n",
    "        for layer in self.layers:\n",
    "            for i in range(layer.weights.shape[0]):\n",
    "                for j in range(layer.weights.shape[1]):\n",
    "                    layer.weights[i, j] += h\n",
    "                    new_mse = self.mean_squared_error(input, output)\n",
    "                    layer.weights_gradient[i, j] = (new_mse - original_mse) / h\n",
    "                    layer.weights[i, j] -= h\n",
    "\n",
    "            for i in range(layer.biases.shape[0]):\n",
    "                for j in range(layer.biases.shape[1]):\n",
    "                    layer.biases[i, j] += h\n",
    "                    new_mse = self.mean_squared_error(input, output)\n",
    "                    layer.biases_gradient[i, j] = (new_mse - original_mse) / h\n",
    "                    layer.biases[i, j] -= h"
   ]
  },
  {
   "cell_type": "markdown",
   "metadata": {},
   "source": [
    "# First set"
   ]
  },
  {
   "cell_type": "code",
   "execution_count": 11,
   "metadata": {},
   "outputs": [],
   "source": [
    "square_simple = pd.read_csv('../data/regression/square-simple-training.csv', index_col=0)"
   ]
  },
  {
   "cell_type": "code",
   "execution_count": 12,
   "metadata": {},
   "outputs": [
    {
     "data": {
      "text/plain": [
       "<matplotlib.collections.PathCollection at 0x7f90d8bb49d0>"
      ]
     },
     "execution_count": 12,
     "metadata": {},
     "output_type": "execute_result"
    },
    {
     "data": {
      "image/png": "[encoded data removed]",
      "text/plain": [
       "<Figure size 640x480 with 1 Axes>"
      ]
     },
     "metadata": {},
     "output_type": "display_data"
    }
   ],
   "source": [
    "# scater plot of the data\n",
    "plt.scatter(square_simple['x'], square_simple['y'])"
   ]
  },
  {
   "cell_type": "code",
   "execution_count": 13,
   "metadata": {},
   "outputs": [
    {
     "name": "stdout",
     "output_type": "stream",
     "text": [
      "Epoch 0 MSE: 9162.077634735868\n",
      "Epoch 50 MSE: 7519.172482756474\n",
      "Epoch 100 MSE: 1958.5584309763437\n",
      "Epoch 150 MSE: 1110.9329650952106\n",
      "Epoch 200 MSE: 1019.1663173025462\n",
      "Epoch 250 MSE: 3662.42644922285\n",
      "Epoch 300 MSE: 2881.8644734355325\n",
      "Epoch 350 MSE: 1111.3363331665882\n",
      "Epoch 400 MSE: 876.1963564338472\n",
      "Epoch 450 MSE: 1222.4761492953496\n",
      "Epoch 500 MSE: 983.1979521841391\n",
      "Epoch 550 MSE: 812.9069471790166\n",
      "Epoch 600 MSE: 784.6869675450589\n",
      "Epoch 650 MSE: 716.4982923188619\n",
      "Epoch 700 MSE: 903.5266718061512\n",
      "Epoch 750 MSE: 753.3495880208851\n",
      "Epoch 800 MSE: 4119.974178723807\n",
      "Epoch 850 MSE: 2424.0766462610545\n",
      "Epoch 900 MSE: 1052.7043342483441\n",
      "Epoch 950 MSE: 821.8728047212085\n"
     ]
    },
    {
     "data": {
      "text/plain": [
       "805.1175315324981"
      ]
     },
     "execution_count": 13,
     "metadata": {},
     "output_type": "execute_result"
    }
   ],
   "source": [
    "neural1 = NeuralNetwork([5], 1, 1)\n",
    "neural1.mean_squared_error(square_simple['x'], square_simple['y'])\n",
    "neural1.train(square_simple['x'], square_simple['y'])\n",
    "neural1.mean_squared_error(square_simple['x'], square_simple['y'])"
   ]
  },
  {
   "cell_type": "code",
   "execution_count": null,
   "metadata": {},
   "outputs": [
    {
     "data": {
      "text/plain": [
       "8651.681434347322"
      ]
     },
     "execution_count": 9,
     "metadata": {},
     "output_type": "execute_result"
    }
   ],
   "source": [
    "neural2 = NeuralNetwork([10], 1, 1)\n",
    "neural2.mean_squared_error(square_simple['x'], square_simple['y'])"
   ]
  },
  {
   "cell_type": "code",
   "execution_count": null,
   "metadata": {},
   "outputs": [
    {
     "data": {
      "text/plain": [
       "8606.395298352227"
      ]
     },
     "execution_count": 10,
     "metadata": {},
     "output_type": "execute_result"
    }
   ],
   "source": [
    "neural3 = NeuralNetwork([5, 5], 1, 1)\n",
    "neural3.mean_squared_error(square_simple['x'], square_simple['y'])"
   ]
  },
  {
   "cell_type": "markdown",
   "metadata": {},
   "source": [
    "# Second set"
   ]
  },
  {
   "cell_type": "code",
   "execution_count": null,
   "metadata": {},
   "outputs": [
    {
     "data": {
      "text/plain": [
       "<matplotlib.collections.PathCollection at 0x7fd9712ed150>"
      ]
     },
     "execution_count": 11,
     "metadata": {},
     "output_type": "execute_result"
    },
    {
     "data": {
      "image/png": "[encoded data removed]",
      "text/plain": [
       "<Figure size 640x480 with 1 Axes>"
      ]
     },
     "metadata": {},
     "output_type": "display_data"
    }
   ],
   "source": [
    "steps_large = pd.read_csv(\"../data/regression/steps-large-test.csv\", index_col=0)\n",
    "plt.scatter(steps_large[\"x\"], steps_large[\"y\"])"
   ]
  },
  {
   "cell_type": "code",
   "execution_count": null,
   "metadata": {},
   "outputs": [
    {
     "data": {
      "text/plain": [
       "7520.5487516374105"
      ]
     },
     "execution_count": 12,
     "metadata": {},
     "output_type": "execute_result"
    }
   ],
   "source": [
    "neural4 = NeuralNetwork([5], 1, 1)\n",
    "neural4.mean_squared_error(steps_large[\"x\"], steps_large[\"y\"])"
   ]
  },
  {
   "cell_type": "code",
   "execution_count": null,
   "metadata": {},
   "outputs": [
    {
     "data": {
      "text/plain": [
       "7496.347949200043"
      ]
     },
     "execution_count": 13,
     "metadata": {},
     "output_type": "execute_result"
    }
   ],
   "source": [
    "neural5 = NeuralNetwork([10], 1, 1)\n",
    "neural5.mean_squared_error(steps_large[\"x\"], steps_large[\"y\"])"
   ]
  },
  {
   "cell_type": "code",
   "execution_count": null,
   "metadata": {},
   "outputs": [
    {
     "data": {
      "text/plain": [
       "7390.999517573671"
      ]
     },
     "execution_count": 14,
     "metadata": {},
     "output_type": "execute_result"
    }
   ],
   "source": [
    "neural6 = NeuralNetwork([5,5], 1, 1)\n",
    "neural6.mean_squared_error(steps_large[\"x\"], steps_large[\"y\"])"
   ]
  },
  {
   "cell_type": "code",
   "execution_count": null,
   "metadata": {},
   "outputs": [],
   "source": []
  }
 ],
 "metadata": {
  "kernelspec": {
   "display_name": "Python 3 (ipykernel)",
   "language": "python",
   "name": "python3"
  },
  "language_info": {
   "codemirror_mode": {
    "name": "ipython",
    "version": 3
   },
   "file_extension": ".py",
   "mimetype": "text/x-python",
   "name": "python",
   "nbconvert_exporter": "python",
   "pygments_lexer": "ipython3",
   "version": "3.10.4"
  }
 },
 "nbformat": 4,
 "nbformat_minor": 2
}
