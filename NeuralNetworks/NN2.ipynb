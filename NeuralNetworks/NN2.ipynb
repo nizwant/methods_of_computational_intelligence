{
 "cells": [
  {
   "cell_type": "markdown",
   "metadata": {},
   "source": [
    "## Basic implementation of Neural Network using numpy\n"
   ]
  },
  {
   "cell_type": "code",
   "execution_count": 1,
   "metadata": {},
   "outputs": [],
   "source": [
    "# Use the following command to install required packages\n",
    "\n",
    "# !pip install numpy\n",
    "# !pip install pandas\n",
    "# !pip install matplotlib"
   ]
  },
  {
   "cell_type": "code",
   "execution_count": 2,
   "metadata": {},
   "outputs": [],
   "source": [
    "import numpy as np\n",
    "import pandas as pd\n",
    "import matplotlib.pyplot as plt"
   ]
  },
  {
   "cell_type": "code",
   "execution_count": 3,
   "metadata": {},
   "outputs": [],
   "source": [
    "class Layer:\n",
    "    __slots__ = ['weights', 'biases', 'activation', 'biases_gradient', 'weights_gradient']\n",
    "\n",
    "    def __init__(self, nodes_in, nodes_out, activation='sigmoid'):\n",
    "        self.weights = np.random.normal(size=(nodes_in, nodes_out))\n",
    "        self.biases = np.random.normal(size=(1, nodes_out))\n",
    "        self.biases_gradient = np.zeros(self.biases.shape)\n",
    "        self.weights_gradient = np.zeros(self.weights.shape)\n",
    "        if activation == 'sigmoid':\n",
    "            self.activation = self.sigmoid\n",
    "        elif activation == 'linear':\n",
    "            self.activation = self.linear\n",
    "\n",
    "    def calculate_layer(self, input):\n",
    "        \"\"\"\n",
    "        Calculate the output of the layer\n",
    "        Takes in a numpy array and returns a numpy array\n",
    "        \"\"\"\n",
    "        return self.activation(np.dot(input, self.weights) + self.biases)\n",
    "\n",
    "    def sigmoid(self, x):\n",
    "        \"\"\"\n",
    "        Sigmoid activation function\n",
    "        Takes in a numpy array and returns a numpy array\n",
    "        \"\"\"\n",
    "        return 1/(1+np.exp(-x))\n",
    "\n",
    "    def linear(self, x):\n",
    "        \"\"\"\n",
    "        Linear activation function\n",
    "        Takes in a numpy array and returns a numpy array\n",
    "        \"\"\"\n",
    "        return x\n",
    "\n",
    "    def report_layer(self, layer_num):\n",
    "        return f'Layer number {layer_num}\\nWeights\\n{self.weights}\\nbiases\\n{self.biases}'\n",
    "\n",
    "    def apply_gradient(self, learning_rate):\n",
    "        self.weights -= learning_rate * self.weights_gradient\n",
    "        self.biases -= learning_rate * self.biases_gradient"
   ]
  },
  {
   "cell_type": "code",
   "execution_count": 96,
   "metadata": {},
   "outputs": [],
   "source": [
    "class NeuralNetwork:\n",
    "    __slots__ = ['hidden_layers', 'layers']\n",
    "\n",
    "    def __init__(self, hidden_layers, input_size, output_size):\n",
    "        self.hidden_layers = hidden_layers\n",
    "        self.layers = []\n",
    "\n",
    "        # Create the input layer\n",
    "        input_layer = Layer(1, hidden_layers[0])\n",
    "        self.layers.append(input_layer)\n",
    "\n",
    "        # Create the hidden layers\n",
    "        for input_size, output_size in zip(hidden_layers, hidden_layers[1:]):\n",
    "            self.layers.append(Layer(input_size, output_size))\n",
    "\n",
    "        # Create the output layer\n",
    "        output_layer = Layer(hidden_layers[-1], 1, activation='linear')\n",
    "        self.layers.append(output_layer)\n",
    "\n",
    "    def forward(self, input):\n",
    "        \"\"\"\n",
    "        Takes a input and returns the output of the network\n",
    "        \"\"\"\n",
    "        for layer in self.layers:\n",
    "            input = layer.calculate_layer(input)\n",
    "        return input\n",
    "\n",
    "    def train(self, input, output, learning_rate=0.001):\n",
    "        \"\"\"\n",
    "        Train the network on a given dataset\n",
    "        \"\"\"\n",
    "        for i in range(20000):\n",
    "            input_aaa = input.to_frame().join(output)\n",
    "            input_i = input_aaa.sample(frac=0.1)\n",
    "            self.calculate_gradient(input_i[\"x\"], input_i[\"y\"])\n",
    "            self.apply_gradient(learning_rate)\n",
    "            if i % 500 == 0:\n",
    "                print(f'Epoch {i} MSE: {self.mean_squared_error(input, output)}')\n",
    "\n",
    "    def backpropagation(self, input, output, learning_rate=0.001):\n",
    "        \"\"\"\n",
    "        Perform backpropagation on the network\n",
    "        \"\"\"\n",
    "        pass\n",
    "\n",
    "    def mean_squared_error(self, input, output):\n",
    "        \"\"\"\n",
    "        Calculate the mean squared error of the network on a given dataset and output\n",
    "        \"\"\"\n",
    "        mse = []\n",
    "        for i,j in zip(input, output):\n",
    "            mse.append((j - self.forward(i)) ** 2)\n",
    "        return np.mean(mse)\n",
    "\n",
    "    def visualize(self):\n",
    "        \"\"\"\n",
    "        Visualize the network architecture\n",
    "        \"\"\"\n",
    "        for i, layer in enumerate(self.layers):\n",
    "            print(layer.report_layer(i))\n",
    "            print(\"\\n\")\n",
    "\n",
    "    def apply_gradient(self, learning_rate):\n",
    "        for layer in self.layers:\n",
    "            layer.apply_gradient(learning_rate)\n",
    "\n",
    "    def calculate_gradient(self, input, output):\n",
    "        \"\"\"\n",
    "        Calculate the gradient of the network\n",
    "        \"\"\"\n",
    "        h = 0.00001\n",
    "        original_mse = self.mean_squared_error(input, output)\n",
    "\n",
    "        for layer in self.layers:\n",
    "            for i in range(layer.weights.shape[0]):\n",
    "                for j in range(layer.weights.shape[1]):\n",
    "                    layer.weights[i, j] += h\n",
    "                    new_mse = self.mean_squared_error(input, output)\n",
    "                    layer.weights_gradient[i, j] = (new_mse - original_mse) / h\n",
    "                    layer.weights[i, j] -= h\n",
    "\n",
    "            for i in range(layer.biases.shape[0]):\n",
    "                for j in range(layer.biases.shape[1]):\n",
    "                    layer.biases[i, j] += h\n",
    "                    new_mse = self.mean_squared_error(input, output)\n",
    "                    layer.biases_gradient[i, j] = (new_mse - original_mse) / h\n",
    "                    layer.biases[i, j] -= h"
   ]
  },
  {
   "cell_type": "markdown",
   "metadata": {},
   "source": [
    "# First set"
   ]
  },
  {
   "cell_type": "code",
   "execution_count": 82,
   "metadata": {},
   "outputs": [],
   "source": [
    "square_simple = pd.read_csv('../data/regression/square-simple-test.csv', index_col=0)"
   ]
  },
  {
   "cell_type": "code",
   "execution_count": 85,
   "metadata": {},
   "outputs": [
    {
     "data": {
      "text/html": [
       "<div>\n",
       "<style scoped>\n",
       "    .dataframe tbody tr th:only-of-type {\n",
       "        vertical-align: middle;\n",
       "    }\n",
       "\n",
       "    .dataframe tbody tr th {\n",
       "        vertical-align: top;\n",
       "    }\n",
       "\n",
       "    .dataframe thead th {\n",
       "        text-align: right;\n",
       "    }\n",
       "</style>\n",
       "<table border=\"1\" class=\"dataframe\">\n",
       "  <thead>\n",
       "    <tr style=\"text-align: right;\">\n",
       "      <th></th>\n",
       "      <th>x</th>\n",
       "      <th>y</th>\n",
       "    </tr>\n",
       "  </thead>\n",
       "  <tbody>\n",
       "    <tr>\n",
       "      <th>1</th>\n",
       "      <td>-0.980437</td>\n",
       "      <td>-43.486918</td>\n",
       "    </tr>\n",
       "    <tr>\n",
       "      <th>2</th>\n",
       "      <td>-1.219074</td>\n",
       "      <td>3.752808</td>\n",
       "    </tr>\n",
       "    <tr>\n",
       "      <th>3</th>\n",
       "      <td>0.124243</td>\n",
       "      <td>-128.610721</td>\n",
       "    </tr>\n",
       "    <tr>\n",
       "      <th>4</th>\n",
       "      <td>1.227789</td>\n",
       "      <td>5.671828</td>\n",
       "    </tr>\n",
       "    <tr>\n",
       "      <th>5</th>\n",
       "      <td>1.067348</td>\n",
       "      <td>-27.469169</td>\n",
       "    </tr>\n",
       "    <tr>\n",
       "      <th>...</th>\n",
       "      <td>...</td>\n",
       "      <td>...</td>\n",
       "    </tr>\n",
       "    <tr>\n",
       "      <th>96</th>\n",
       "      <td>1.315377</td>\n",
       "      <td>25.719403</td>\n",
       "    </tr>\n",
       "    <tr>\n",
       "      <th>97</th>\n",
       "      <td>-1.196968</td>\n",
       "      <td>-1.054107</td>\n",
       "    </tr>\n",
       "    <tr>\n",
       "      <th>98</th>\n",
       "      <td>1.544766</td>\n",
       "      <td>84.767303</td>\n",
       "    </tr>\n",
       "    <tr>\n",
       "      <th>99</th>\n",
       "      <td>0.441051</td>\n",
       "      <td>-112.492699</td>\n",
       "    </tr>\n",
       "    <tr>\n",
       "      <th>100</th>\n",
       "      <td>-0.025176</td>\n",
       "      <td>-129.942957</td>\n",
       "    </tr>\n",
       "  </tbody>\n",
       "</table>\n",
       "<p>100 rows × 2 columns</p>\n",
       "</div>"
      ],
      "text/plain": [
       "            x           y\n",
       "1   -0.980437  -43.486918\n",
       "2   -1.219074    3.752808\n",
       "3    0.124243 -128.610721\n",
       "4    1.227789    5.671828\n",
       "5    1.067348  -27.469169\n",
       "..        ...         ...\n",
       "96   1.315377   25.719403\n",
       "97  -1.196968   -1.054107\n",
       "98   1.544766   84.767303\n",
       "99   0.441051 -112.492699\n",
       "100 -0.025176 -129.942957\n",
       "\n",
       "[100 rows x 2 columns]"
      ]
     },
     "execution_count": 85,
     "metadata": {},
     "output_type": "execute_result"
    },
    {
     "data": {
      "image/png": "[encoded data removed]",
      "text/plain": [
       "<Figure size 640x480 with 1 Axes>"
      ]
     },
     "metadata": {},
     "output_type": "display_data"
    }
   ],
   "source": [
    "# scater plot of the data\n",
    "plt.scatter(square_simple['x'], square_simple['y'])\n",
    "square_simple"
   ]
  },
  {
   "cell_type": "code",
   "execution_count": 97,
   "metadata": {},
   "outputs": [
    {
     "name": "stdout",
     "output_type": "stream",
     "text": [
      "Epoch 0 MSE: 8798.146125095993\n",
      "Epoch 500 MSE: 4331.714341426353\n",
      "Epoch 1000 MSE: 3409.4556872180387\n",
      "Epoch 1500 MSE: 2909.7725287299686\n",
      "Epoch 2000 MSE: 2597.544274084175\n",
      "Epoch 2500 MSE: 2401.2957971880246\n",
      "Epoch 3000 MSE: 2260.134382800026\n",
      "Epoch 3500 MSE: 2150.379752703892\n",
      "Epoch 4000 MSE: 2070.8726255738206\n",
      "Epoch 4500 MSE: 2011.2278758989594\n",
      "Epoch 5000 MSE: 1972.4140942516533\n",
      "Epoch 5500 MSE: 1939.1635615616613\n",
      "Epoch 6000 MSE: 1906.6602459111812\n",
      "Epoch 6500 MSE: 1883.6743591062268\n",
      "Epoch 7000 MSE: 1862.6621499086714\n",
      "Epoch 7500 MSE: 1850.4874178404164\n",
      "Epoch 8000 MSE: 1832.479873483379\n",
      "Epoch 8500 MSE: 1821.2164582169235\n",
      "Epoch 9000 MSE: 1808.866739719504\n",
      "Epoch 9500 MSE: 1799.545139241876\n",
      "Epoch 10000 MSE: 1791.3873062787584\n",
      "Epoch 10500 MSE: 1786.371225402056\n",
      "Epoch 11000 MSE: 1780.444121934692\n",
      "Epoch 11500 MSE: 1776.0881581115777\n",
      "Epoch 12000 MSE: 1772.2590621171\n",
      "Epoch 12500 MSE: 1768.0350184481085\n",
      "Epoch 13000 MSE: 1766.0947763737925\n",
      "Epoch 13500 MSE: 1762.9095399756907\n",
      "Epoch 14000 MSE: 1758.9199235946912\n",
      "Epoch 14500 MSE: 1756.9827836930936\n",
      "Epoch 15000 MSE: 1755.0863330628904\n",
      "Epoch 15500 MSE: 1752.9055563024178\n",
      "Epoch 16000 MSE: 1750.5447611916609\n",
      "Epoch 16500 MSE: 1750.319145914843\n",
      "Epoch 17000 MSE: 1752.6972584072348\n",
      "Epoch 17500 MSE: 1746.3820438957168\n",
      "Epoch 18000 MSE: 1745.073581138754\n",
      "Epoch 18500 MSE: 1746.050042911228\n",
      "Epoch 19000 MSE: 1742.177136106947\n",
      "Epoch 19500 MSE: 1741.412848583692\n"
     ]
    },
    {
     "data": {
      "text/plain": [
       "1741.5382889036073"
      ]
     },
     "execution_count": 97,
     "metadata": {},
     "output_type": "execute_result"
    }
   ],
   "source": [
    "neural1 = NeuralNetwork([5], 1, 1)\n",
    "neural1.mean_squared_error(square_simple[\"x\"], square_simple[\"y\"])\n",
    "neural1.train(square_simple[\"x\"], square_simple[\"y\"])\n",
    "neural1.mean_squared_error(square_simple[\"x\"], square_simple[\"y\"])"
   ]
  },
  {
   "cell_type": "code",
   "execution_count": 41,
   "metadata": {},
   "outputs": [
    {
     "name": "stdout",
     "output_type": "stream",
     "text": [
      "Layer number 0\n",
      "Weights\n",
      "[[ -10.7413685   -66.42434173 -103.16908823 -167.68976     -51.10989349]]\n",
      "biases\n",
      "[[-23.78572963  29.09319582 -73.28038757 119.60837951 -84.61360998]]\n",
      "\n",
      "\n",
      "Layer number 1\n",
      "Weights\n",
      "[[  33.20843504]\n",
      " [ -18.86557951]\n",
      " [  99.3972304 ]\n",
      " [-137.97590418]\n",
      " [  66.15821842]]\n",
      "biases\n",
      "[[31.69493433]]\n",
      "\n",
      "\n",
      "None\n"
     ]
    },
    {
     "data": {
      "image/png": "[encoded data removed]",
      "text/plain": [
       "<Figure size 640x480 with 1 Axes>"
      ]
     },
     "metadata": {},
     "output_type": "display_data"
    }
   ],
   "source": [
    "y = []\n",
    "for i in square_simple[\"x\"]:\n",
    "    y.append(neural1.forward(i))\n",
    "plt.scatter(square_simple[\"x\"], y)\n",
    "print(neural1.visualize())"
   ]
  },
  {
   "cell_type": "code",
   "execution_count": 36,
   "metadata": {},
   "outputs": [
    {
     "data": {
      "text/plain": [
       "2.3145685608885307"
      ]
     },
     "execution_count": 36,
     "metadata": {},
     "output_type": "execute_result"
    },
    {
     "data": {
      "image/png": "[encoded data removed]",
      "text/plain": [
       "<Figure size 640x480 with 1 Axes>"
      ]
     },
     "metadata": {},
     "output_type": "display_data"
    }
   ],
   "source": [
    "neural1.layers[0].biases =  np.array([[-2.9,-2.8897,-2.8897,-2.8897,-2.8897]])\n",
    "neural1.layers[0].weights = np.array([[-0.9733, -0.9733, -0.9733, -0.9733, 0.9733]])\n",
    "neural1.layers[1].weights = np.array([[502], [502], [502], [502], [1993]])\n",
    "neural1.layers[1].biases = np.array([[-339.16]])\n",
    "y = []\n",
    "for i in square_simple[\"x\"]:\n",
    "    y.append(neural1.forward(i))\n",
    "plt.scatter(square_simple[\"x\"], y)\n",
    "neural1.mean_squared_error(square_simple[\"x\"], square_simple[\"y\"])"
   ]
  },
  {
   "cell_type": "code",
   "execution_count": 55,
   "metadata": {},
   "outputs": [
    {
     "name": "stdout",
     "output_type": "stream",
     "text": [
      "Epoch 0 MSE: 6.502058729465968\n",
      "Epoch 50 MSE: 0.8407360725144178\n",
      "Epoch 100 MSE: 0.8149753885370471\n",
      "Epoch 150 MSE: 0.7956386849167552\n",
      "Epoch 200 MSE: 0.7779210021917748\n",
      "Epoch 250 MSE: 0.7682460018445562\n",
      "Epoch 300 MSE: 0.761009010583968\n",
      "Epoch 350 MSE: 0.7519225106682201\n",
      "Epoch 400 MSE: 0.7401990217330224\n",
      "Epoch 450 MSE: 0.7284370530266243\n",
      "Epoch 500 MSE: 0.7228695661178215\n",
      "Epoch 550 MSE: 0.7062874486495591\n",
      "Epoch 600 MSE: 0.6959597757245417\n",
      "Epoch 650 MSE: 0.6827487747149782\n",
      "Epoch 700 MSE: 0.6707713352069372\n",
      "Epoch 750 MSE: 0.6586187989413689\n",
      "Epoch 800 MSE: 0.6454510280567629\n",
      "Epoch 850 MSE: 0.6382477580730016\n",
      "Epoch 900 MSE: 0.6203099900835233\n",
      "Epoch 950 MSE: 0.6051099132943972\n",
      "Epoch 1000 MSE: 0.5909101580716828\n",
      "Epoch 1050 MSE: 0.5789983437066497\n",
      "Epoch 1100 MSE: 0.5598572819524995\n",
      "Epoch 1150 MSE: 0.5439411577655392\n",
      "Epoch 1200 MSE: 0.5290979653032002\n",
      "Epoch 1250 MSE: 0.5122690024181423\n",
      "Epoch 1300 MSE: 0.49442302788714493\n",
      "Epoch 1350 MSE: 0.4767904709387525\n",
      "Epoch 1400 MSE: 0.4589342988070164\n",
      "Epoch 1450 MSE: 0.4520758441381977\n",
      "Epoch 1500 MSE: 0.42220607523223225\n",
      "Epoch 1550 MSE: 0.4062797075969998\n",
      "Epoch 1600 MSE: 0.38841556612137396\n",
      "Epoch 1650 MSE: 0.37293537019440115\n",
      "Epoch 1700 MSE: 0.35228659776539095\n",
      "Epoch 1750 MSE: 0.3408601700453445\n",
      "Epoch 1800 MSE: 0.3190703262687959\n",
      "Epoch 1850 MSE: 0.30586542433697816\n",
      "Epoch 1900 MSE: 0.2870643489739855\n",
      "Epoch 1950 MSE: 0.2730131939219939\n"
     ]
    },
    {
     "data": {
      "text/plain": [
       "0.25808669493529857"
      ]
     },
     "execution_count": 55,
     "metadata": {},
     "output_type": "execute_result"
    }
   ],
   "source": [
    "neural2 = NeuralNetwork([10], 1, 1)\n",
    "neural2.mean_squared_error(square_simple['x'], square_simple['y'])\n",
    "neural2.train(square_simple[\"x\"], square_simple[\"y\"])\n",
    "neural2.mean_squared_error(square_simple[\"x\"], square_simple[\"y\"])"
   ]
  },
  {
   "cell_type": "code",
   "execution_count": 56,
   "metadata": {},
   "outputs": [
    {
     "data": {
      "text/plain": [
       "<matplotlib.collections.PathCollection at 0x7f98406ca380>"
      ]
     },
     "execution_count": 56,
     "metadata": {},
     "output_type": "execute_result"
    },
    {
     "data": {
      "image/png": "[encoded data removed]",
      "text/plain": [
       "<Figure size 640x480 with 1 Axes>"
      ]
     },
     "metadata": {},
     "output_type": "display_data"
    }
   ],
   "source": [
    "y = []\n",
    "for i in square_simple[\"x\"]:\n",
    "    y.append(neural2.forward(i))\n",
    "plt.scatter(square_simple[\"x\"], y)"
   ]
  },
  {
   "cell_type": "code",
   "execution_count": 10,
   "metadata": {},
   "outputs": [
    {
     "data": {
      "text/plain": [
       "8611.457345009921"
      ]
     },
     "execution_count": 10,
     "metadata": {},
     "output_type": "execute_result"
    }
   ],
   "source": [
    "neural3 = NeuralNetwork([5, 5], 1, 1)\n",
    "neural3.mean_squared_error(square_simple['x'], square_simple['y'])\n",
    "# neural3.train(square_simple[\"x\"], square_simple[\"y\"])\n",
    "# neural3.mean_squared_error(square_simple[\"x\"], square_simple[\"y\"])"
   ]
  },
  {
   "cell_type": "markdown",
   "metadata": {},
   "source": [
    "# Second set"
   ]
  },
  {
   "cell_type": "code",
   "execution_count": 62,
   "metadata": {},
   "outputs": [
    {
     "data": {
      "text/plain": [
       "<matplotlib.collections.PathCollection at 0x7f982836a200>"
      ]
     },
     "execution_count": 62,
     "metadata": {},
     "output_type": "execute_result"
    },
    {
     "data": {
      "image/png": "[encoded data removed]",
      "text/plain": [
       "<Figure size 640x480 with 1 Axes>"
      ]
     },
     "metadata": {},
     "output_type": "display_data"
    }
   ],
   "source": [
    "steps_large = pd.read_csv(\"../data/regression/steps-large-test.csv\", index_col=0)\n",
    "plt.scatter(steps_large[\"x\"], steps_large[\"y\"])"
   ]
  },
  {
   "cell_type": "code",
   "execution_count": 93,
   "metadata": {},
   "outputs": [
    {
     "name": "stdout",
     "output_type": "stream",
     "text": [
      "Epoch 0 MSE: 7460.138203946953\n",
      "Epoch 500 MSE: 2146.458312688779\n",
      "Epoch 1000 MSE: 1295.623643980372\n",
      "Epoch 1500 MSE: 829.7004897713153\n",
      "Epoch 2000 MSE: 567.8571915571408\n",
      "Epoch 2500 MSE: 432.67498377546855\n",
      "Epoch 3000 MSE: 341.0006127299123\n",
      "Epoch 3500 MSE: 293.17772898829446\n",
      "Epoch 4000 MSE: 249.30424160788994\n",
      "Epoch 4500 MSE: 224.68220219344275\n",
      "Epoch 5000 MSE: 196.0592219545437\n",
      "Epoch 5500 MSE: 188.17459532366556\n",
      "Epoch 6000 MSE: 170.4843520944789\n",
      "Epoch 6500 MSE: 171.42597482443892\n",
      "Epoch 7000 MSE: 154.50961056189703\n",
      "Epoch 7500 MSE: 147.86002038122194\n",
      "Epoch 8000 MSE: 138.7653273118497\n",
      "Epoch 8500 MSE: 151.4631442712921\n",
      "Epoch 9000 MSE: 141.8645909751123\n",
      "Epoch 9500 MSE: 126.31631908141802\n",
      "Epoch 10000 MSE: 133.42909208597473\n",
      "Epoch 10500 MSE: 119.51236825579718\n",
      "Epoch 11000 MSE: 119.20121587856865\n",
      "Epoch 11500 MSE: 124.2581202206469\n",
      "Epoch 12000 MSE: 111.1981673487752\n",
      "Epoch 12500 MSE: 111.25104287940907\n",
      "Epoch 13000 MSE: 103.35521135581259\n",
      "Epoch 13500 MSE: 101.29867787324702\n",
      "Epoch 14000 MSE: 102.62639556335455\n",
      "Epoch 14500 MSE: 99.27547083895695\n",
      "Epoch 15000 MSE: 95.9443769818606\n",
      "Epoch 15500 MSE: 102.01132000768919\n",
      "Epoch 16000 MSE: 100.38718612916358\n",
      "Epoch 16500 MSE: 103.79906814797639\n",
      "Epoch 17000 MSE: 98.49801407552869\n",
      "Epoch 17500 MSE: 93.05194925241405\n",
      "Epoch 18000 MSE: 94.51049366663194\n",
      "Epoch 18500 MSE: 96.24414826242165\n",
      "Epoch 19000 MSE: 89.02894702098132\n",
      "Epoch 19500 MSE: 87.23658932981161\n"
     ]
    },
    {
     "data": {
      "text/plain": [
       "85.81658969496394"
      ]
     },
     "execution_count": 93,
     "metadata": {},
     "output_type": "execute_result"
    }
   ],
   "source": [
    "neural4 = NeuralNetwork([5], 1, 1)\n",
    "neural4.mean_squared_error(steps_large[\"x\"], steps_large[\"y\"])\n",
    "neural4.train(steps_large[\"x\"], steps_large[\"y\"])\n",
    "neural4.mean_squared_error(steps_large[\"x\"], steps_large[\"y\"])"
   ]
  },
  {
   "cell_type": "code",
   "execution_count": 90,
   "metadata": {},
   "outputs": [
    {
     "data": {
      "text/plain": [
       "<matplotlib.collections.PathCollection at 0x7f9830190b80>"
      ]
     },
     "execution_count": 90,
     "metadata": {},
     "output_type": "execute_result"
    },
    {
     "data": {
      "image/png": "[encoded data removed]",
      "text/plain": [
       "<Figure size 640x480 with 1 Axes>"
      ]
     },
     "metadata": {},
     "output_type": "display_data"
    }
   ],
   "source": [
    "y = []\n",
    "for i in square_simple[\"x\"]:\n",
    "    y.append(neural4.forward(i))\n",
    "plt.scatter(square_simple[\"x\"], y)"
   ]
  },
  {
   "cell_type": "code",
   "execution_count": null,
   "metadata": {},
   "outputs": [
    {
     "name": "stdout",
     "output_type": "stream",
     "text": [
      "Epoch 0 MSE: 6849.19303561521\n",
      "Epoch 50 MSE: 1132.4025182409039\n",
      "Epoch 100 MSE: 679.7175194688705\n",
      "Epoch 150 MSE: 492.8225784955538\n",
      "Epoch 200 MSE: 395.1392771973632\n",
      "Epoch 250 MSE: 326.7133815374047\n",
      "Epoch 300 MSE: 318.59284275138833\n",
      "Epoch 350 MSE: 264.94177750970863\n",
      "Epoch 400 MSE: 243.67805880682818\n",
      "Epoch 450 MSE: 254.62058049358015\n",
      "Epoch 500 MSE: 211.38642330571523\n",
      "Epoch 550 MSE: 209.16443689923236\n",
      "Epoch 600 MSE: 181.79606066782387\n",
      "Epoch 650 MSE: 176.30983512845066\n",
      "Epoch 700 MSE: 178.4524826210602\n",
      "Epoch 750 MSE: 157.70034177141468\n",
      "Epoch 800 MSE: 155.53404808730755\n",
      "Epoch 850 MSE: 146.61186026284395\n",
      "Epoch 900 MSE: 145.9658638595774\n",
      "Epoch 950 MSE: 163.59786971313505\n",
      "Epoch 1000 MSE: 143.54968633971933\n",
      "Epoch 1050 MSE: 133.0754538286664\n",
      "Epoch 1100 MSE: 131.10132781503535\n",
      "Epoch 1150 MSE: 124.809227773496\n",
      "Epoch 1200 MSE: 126.41742395303014\n",
      "Epoch 1250 MSE: 122.19104124683692\n",
      "Epoch 1300 MSE: 124.58981087884553\n",
      "Epoch 1350 MSE: 123.18038968015497\n",
      "Epoch 1400 MSE: 122.28295171122511\n",
      "Epoch 1450 MSE: 116.98949724135342\n",
      "Epoch 1500 MSE: 124.96328877997331\n",
      "Epoch 1550 MSE: 110.09929573506085\n",
      "Epoch 1600 MSE: 108.49768590273837\n",
      "Epoch 1650 MSE: 106.1509770745031\n",
      "Epoch 1700 MSE: 104.81869349842827\n",
      "Epoch 1750 MSE: 103.31009161500455\n",
      "Epoch 1800 MSE: 105.83170703805857\n",
      "Epoch 1850 MSE: 101.65539393315638\n",
      "Epoch 1900 MSE: 107.24907671541916\n",
      "Epoch 1950 MSE: 99.0538275502896\n"
     ]
    },
    {
     "data": {
      "text/plain": [
       "101.35710077957332"
      ]
     },
     "execution_count": 49,
     "metadata": {},
     "output_type": "execute_result"
    }
   ],
   "source": [
    "neural5 = NeuralNetwork([10], 1, 1)\n",
    "neural5.mean_squared_error(steps_large[\"x\"], steps_large[\"y\"])\n",
    "neural5.train(steps_large[\"x\"], steps_large[\"y\"])\n",
    "neural5.mean_squared_error(steps_large[\"x\"], steps_large[\"y\"])"
   ]
  },
  {
   "cell_type": "code",
   "execution_count": 50,
   "metadata": {},
   "outputs": [
    {
     "data": {
      "text/plain": [
       "<matplotlib.collections.PathCollection at 0x7f9830110220>"
      ]
     },
     "execution_count": 50,
     "metadata": {},
     "output_type": "execute_result"
    },
    {
     "data": {
      "image/png": "[encoded data removed]",
      "text/plain": [
       "<Figure size 640x480 with 1 Axes>"
      ]
     },
     "metadata": {},
     "output_type": "display_data"
    }
   ],
   "source": [
    "y = []\n",
    "for i in square_simple[\"x\"]:\n",
    "    y.append(neural5.forward(i))\n",
    "plt.scatter(square_simple[\"x\"], y)"
   ]
  },
  {
   "cell_type": "code",
   "execution_count": 15,
   "metadata": {},
   "outputs": [
    {
     "data": {
      "text/plain": [
       "7498.433623507755"
      ]
     },
     "execution_count": 15,
     "metadata": {},
     "output_type": "execute_result"
    }
   ],
   "source": [
    "neural6 = NeuralNetwork([5,5], 1, 1)\n",
    "neural6.mean_squared_error(steps_large[\"x\"], steps_large[\"y\"])"
   ]
  },
  {
   "cell_type": "code",
   "execution_count": null,
   "metadata": {},
   "outputs": [],
   "source": []
  }
 ],
 "metadata": {
  "kernelspec": {
   "display_name": "Python 3 (ipykernel)",
   "language": "python",
   "name": "python3"
  },
  "language_info": {
   "codemirror_mode": {
    "name": "ipython",
    "version": 3
   },
   "file_extension": ".py",
   "mimetype": "text/x-python",
   "name": "python",
   "nbconvert_exporter": "python",
   "pygments_lexer": "ipython3",
   "version": "3.10.4"
  }
 },
 "nbformat": 4,
 "nbformat_minor": 2
}
