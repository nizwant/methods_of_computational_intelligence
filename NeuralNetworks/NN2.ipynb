{
 "cells": [
  {
   "cell_type": "markdown",
   "metadata": {},
   "source": [
    "## Basic implementation of Neural Network using numpy\n"
   ]
  },
  {
   "cell_type": "code",
   "execution_count": 2,
   "metadata": {},
   "outputs": [],
   "source": [
    "# Use the following command to install required packages\n",
    "\n",
    "# !pip install numpy\n",
    "# !pip install pandas\n",
    "# !pip install matplotlib"
   ]
  },
  {
   "cell_type": "code",
   "execution_count": 3,
   "metadata": {},
   "outputs": [],
   "source": [
    "import numpy as np\n",
    "import pandas as pd\n",
    "import matplotlib.pyplot as plt"
   ]
  },
  {
   "cell_type": "code",
   "execution_count": 4,
   "metadata": {},
   "outputs": [],
   "source": [
    "class Layer:\n",
    "    __slots__ = ['weights', 'biases', 'activation', 'biases_gradient', 'weights_gradient']\n",
    "\n",
    "    def __init__(self, nodes_in, nodes_out, activation='sigmoid'):\n",
    "        self.weights = np.random.normal(size=(nodes_in, nodes_out))\n",
    "        self.biases = np.random.normal(size=(1, nodes_out))\n",
    "        if activation == 'sigmoid':\n",
    "            self.activation = self.sigmoid\n",
    "        elif activation == 'linear':\n",
    "            self.activation = self.linear\n",
    "\n",
    "    def calculate_layer(self, input):\n",
    "        \"\"\"\n",
    "        Calculate the output of the layer\n",
    "        Takes in a numpy array and returns a numpy array\n",
    "        \"\"\"\n",
    "        return self.activation(np.dot(input, self.weights) + self.biases)\n",
    "\n",
    "    def sigmoid(self, x):\n",
    "        \"\"\"\n",
    "        Sigmoid activation function\n",
    "        Takes in a numpy array and returns a numpy array\n",
    "        \"\"\"\n",
    "        return 1/(1+np.exp(-x))\n",
    "\n",
    "    def linear(self, x):\n",
    "        \"\"\"\n",
    "        Linear activation function\n",
    "        Takes in a numpy array and returns a numpy array\n",
    "        \"\"\"\n",
    "        return x\n",
    "    \n",
    "    def report_layer(self, layer_num):\n",
    "        return f'Layer number {layer_num}\\nWeights\\n{self.weights}\\nbiases\\n{self.biases}'\n",
    "    \n",
    "    def apply_gradient(self, learning_rate):\n",
    "        self.weights -= learning_rate * self.weights_gradient\n",
    "        self.biases -= learning_rate * self.biases_gradient"
   ]
  },
  {
   "cell_type": "code",
   "execution_count": 5,
   "metadata": {},
   "outputs": [],
   "source": [
    "class NeuralNetwork:\n",
    "    __slots__ = ['hidden_layers', 'layers']\n",
    "\n",
    "    def __init__(self, hidden_layers, input_size, output_size):\n",
    "        self.hidden_layers = hidden_layers\n",
    "        self.layers = []\n",
    "\n",
    "        # Create the input layer\n",
    "        input_layer = Layer(1, hidden_layers[0])\n",
    "        self.layers.append(input_layer)\n",
    "\n",
    "        # Create the hidden layers\n",
    "        for input_size, output_size in zip(hidden_layers, hidden_layers[1:]):\n",
    "            self.layers.append(Layer(input_size, output_size))\n",
    "\n",
    "        # Create the output layer\n",
    "        output_layer = Layer(hidden_layers[-1], 1, activation='linear')\n",
    "        self.layers.append(output_layer)\n",
    "\n",
    "    def forward(self, input):\n",
    "        \"\"\"\n",
    "        Takes a input and returns the output of the network\n",
    "        \"\"\"\n",
    "        for layer in self.layers:\n",
    "            input = layer.calculate_layer(input)\n",
    "        return input\n",
    "\n",
    "    def train(self, input, output, learning_rate=0.1):\n",
    "        \"\"\"\n",
    "        Train the network on a given dataset\n",
    "        \"\"\"\n",
    "        \n",
    "\n",
    "    def backpropagation(self, input, output, learning_rate=0.1):\n",
    "        \"\"\"\n",
    "        Perform backpropagation on the network\n",
    "        \"\"\"\n",
    "        pass\n",
    "\n",
    "    def mean_squared_error(self, input, output):\n",
    "        \"\"\"\n",
    "        Calculate the mean squared error of the network on a given dataset and output\n",
    "        \"\"\"\n",
    "        mse = []\n",
    "        for i,j in zip(input, output):\n",
    "            mse.append((j - self.forward(i)) ** 2)\n",
    "        return np.mean(mse)\n",
    "\n",
    "    def visualize(self):\n",
    "        \"\"\"\n",
    "        Visualize the network architecture\n",
    "        \"\"\"\n",
    "        for i, layer in enumerate(self.layers):\n",
    "            print(layer.report_layer(i))\n",
    "            print(\"\\n\")"
   ]
  },
  {
   "cell_type": "markdown",
   "metadata": {},
   "source": [
    "# First set"
   ]
  },
  {
   "cell_type": "code",
   "execution_count": 6,
   "metadata": {},
   "outputs": [],
   "source": [
    "square_simple = pd.read_csv('../data/regression/square-simple-test.csv', index_col=0)"
   ]
  },
  {
   "cell_type": "code",
   "execution_count": 7,
   "metadata": {},
   "outputs": [
    {
     "data": {
      "text/plain": [
       "<matplotlib.collections.PathCollection at 0x7fd980bd0160>"
      ]
     },
     "execution_count": 7,
     "metadata": {},
     "output_type": "execute_result"
    },
    {
     "data": {
      "image/png": "[encoded data removed]",
      "text/plain": [
       "<Figure size 640x480 with 1 Axes>"
      ]
     },
     "metadata": {},
     "output_type": "display_data"
    }
   ],
   "source": [
    "# scater plot of the data\n",
    "plt.scatter(square_simple['x'], square_simple['y'])"
   ]
  },
  {
   "cell_type": "code",
   "execution_count": 8,
   "metadata": {},
   "outputs": [
    {
     "data": {
      "text/plain": [
       "8784.94841355474"
      ]
     },
     "execution_count": 8,
     "metadata": {},
     "output_type": "execute_result"
    }
   ],
   "source": [
    "neural1 = NeuralNetwork([5], 1, 1)\n",
    "neural1.mean_squared_error(square_simple['x'], square_simple['y'])"
   ]
  },
  {
   "cell_type": "code",
   "execution_count": 9,
   "metadata": {},
   "outputs": [
    {
     "data": {
      "text/plain": [
       "8651.681434347322"
      ]
     },
     "execution_count": 9,
     "metadata": {},
     "output_type": "execute_result"
    }
   ],
   "source": [
    "neural2 = NeuralNetwork([10], 1, 1)\n",
    "neural2.mean_squared_error(square_simple['x'], square_simple['y'])"
   ]
  },
  {
   "cell_type": "code",
   "execution_count": 10,
   "metadata": {},
   "outputs": [
    {
     "data": {
      "text/plain": [
       "8606.395298352227"
      ]
     },
     "execution_count": 10,
     "metadata": {},
     "output_type": "execute_result"
    }
   ],
   "source": [
    "neural3 = NeuralNetwork([5, 5], 1, 1)\n",
    "neural3.mean_squared_error(square_simple['x'], square_simple['y'])"
   ]
  },
  {
   "cell_type": "markdown",
   "metadata": {},
   "source": [
    "# Second set"
   ]
  },
  {
   "cell_type": "code",
   "execution_count": 11,
   "metadata": {},
   "outputs": [
    {
     "data": {
      "text/plain": [
       "<matplotlib.collections.PathCollection at 0x7fd9712ed150>"
      ]
     },
     "execution_count": 11,
     "metadata": {},
     "output_type": "execute_result"
    },
    {
     "data": {
      "image/png": "[encoded data removed]",
      "text/plain": [
       "<Figure size 640x480 with 1 Axes>"
      ]
     },
     "metadata": {},
     "output_type": "display_data"
    }
   ],
   "source": [
    "steps_large = pd.read_csv(\"../data/regression/steps-large-test.csv\", index_col=0)\n",
    "plt.scatter(steps_large[\"x\"], steps_large[\"y\"])"
   ]
  },
  {
   "cell_type": "code",
   "execution_count": 12,
   "metadata": {},
   "outputs": [
    {
     "data": {
      "text/plain": [
       "7520.5487516374105"
      ]
     },
     "execution_count": 12,
     "metadata": {},
     "output_type": "execute_result"
    }
   ],
   "source": [
    "neural4 = NeuralNetwork([5], 1, 1)\n",
    "neural4.mean_squared_error(steps_large[\"x\"], steps_large[\"y\"])"
   ]
  },
  {
   "cell_type": "code",
   "execution_count": 13,
   "metadata": {},
   "outputs": [
    {
     "data": {
      "text/plain": [
       "7496.347949200043"
      ]
     },
     "execution_count": 13,
     "metadata": {},
     "output_type": "execute_result"
    }
   ],
   "source": [
    "neural5 = NeuralNetwork([10], 1, 1)\n",
    "neural5.mean_squared_error(steps_large[\"x\"], steps_large[\"y\"])"
   ]
  },
  {
   "cell_type": "code",
   "execution_count": 14,
   "metadata": {},
   "outputs": [
    {
     "data": {
      "text/plain": [
       "7390.999517573671"
      ]
     },
     "execution_count": 14,
     "metadata": {},
     "output_type": "execute_result"
    }
   ],
   "source": [
    "neural6 = NeuralNetwork([5,5], 1, 1)\n",
    "neural6.mean_squared_error(steps_large[\"x\"], steps_large[\"y\"])"
   ]
  },
  {
   "cell_type": "code",
   "execution_count": null,
   "metadata": {},
   "outputs": [],
   "source": []
  }
 ],
 "metadata": {
  "kernelspec": {
   "display_name": "Python 3 (ipykernel)",
   "language": "python",
   "name": "python3"
  },
  "language_info": {
   "codemirror_mode": {
    "name": "ipython",
    "version": 3
   },
   "file_extension": ".py",
   "mimetype": "text/x-python",
   "name": "python",
   "nbconvert_exporter": "python",
   "pygments_lexer": "ipython3",
   "version": "3.10.4"
  }
 },
 "nbformat": 4,
 "nbformat_minor": 2
}
