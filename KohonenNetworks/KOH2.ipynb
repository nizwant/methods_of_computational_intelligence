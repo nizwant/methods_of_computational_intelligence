{
 "cells": [
  {
   "cell_type": "code",
   "execution_count": 1,
   "metadata": {},
   "outputs": [],
   "source": [
    "import numpy as np\n",
    "import matplotlib.pyplot as plt\n",
    "import pandas as pd\n",
    "from sklearn.metrics import v_measure_score\n",
    "from sklearn.metrics.cluster import contingency_matrix"
   ]
  },
  {
   "cell_type": "code",
   "execution_count": 2,
   "metadata": {},
   "outputs": [],
   "source": [
    "class kohonen:\n",
    "\n",
    "    def __init__(\n",
    "        self,\n",
    "        M,\n",
    "        N,\n",
    "        X,\n",
    "        learning_rate=0.1,\n",
    "        gauss_neighborhood_function=True,\n",
    "        neighborhood_proximity=1.0,\n",
    "        lattice=\"rectangular\",\n",
    "    ):\n",
    "        self.M = M\n",
    "        self.N = N\n",
    "        self.learning_rate = learning_rate\n",
    "        self.input_dim = X.shape[1]\n",
    "        if gauss_neighborhood_function:\n",
    "            self.neighborhood_function = self.gauss_neighborhood\n",
    "        else:\n",
    "            self.neighborhood_function = self.mexican_hat_neighborhood\n",
    "        self.neighborhood_proximity = neighborhood_proximity\n",
    "        # its not working like this\n",
    "        # self.lattice_distances = np.zeros((M, N))\n",
    "        self.calculate_lattice_distances(M, N, lattice)\n",
    "        self.weights = np.random.uniform(0, 1, (self.input_dim, M, N))\n",
    "        minimum = np.min(X, axis=0)\n",
    "        maximum = np.max(X, axis=0)\n",
    "        for i in range(self.input_dim):\n",
    "            self.weights[i] = minimum[i] + (maximum[i] - minimum[i]) * self.weights[i]\n",
    "\n",
    "    def calculate_lattice_distances(self, M, N, lattice):\n",
    "        if lattice == \"rectangular\":\n",
    "            pass\n",
    "        elif lattice == \"hexagonal\":\n",
    "            pass\n",
    "        else:\n",
    "            raise ValueError(\"Invalid lattice type\")\n",
    "\n",
    "    def gauss_neighborhood(self, t, T):\n",
    "        return np.exp(-np.power(t * T * self.neighborhood_proximity, 2))\n",
    "\n",
    "    def mexican_hat_neighborhood(self, t, T):\n",
    "        return np.exp(-np.power(t * T * self.neighborhood_proximity, 2)) * (\n",
    "            2 - 4 * np.power(t * T * self.neighborhood_proximity, 2)\n",
    "        )\n",
    "\n",
    "    def euclidean_distance(self, x, y):\n",
    "        return np.linalg.norm(x - y)\n",
    "\n",
    "    def decay(self, t, iteration_num):\n",
    "        return self.learning_rate * np.exp(-t / iteration_num)\n",
    "\n",
    "    def train(self, X, max_epochs):\n",
    "        for epoch in range(max_epochs):\n",
    "            X = np.random.permutation(X)\n",
    "            decay_value = self.decay(epoch, max_epochs)\n",
    "            for x in X:\n",
    "                idx = np.argmin(np.linalg.norm(self.weights.T - x, axis=2).T)\n",
    "                bmu = np.unravel_index(idx, self.weights[0].shape)\n",
    "\n",
    "                for i in range(self.M):\n",
    "                    for j in range(self.N):\n",
    "                        distance_on_lattice = self.euclidean_distance(\n",
    "                            np.array(bmu), np.array([i, j])  # old approach change it\n",
    "                        )\n",
    "                        self.weights[:, i, j] += (\n",
    "                            decay_value\n",
    "                            * self.neighborhood_function(distance_on_lattice, epoch)\n",
    "                            * (x - self.weights[:, i, j])\n",
    "                        )\n",
    "\n",
    "    def predict(self, X):\n",
    "        return np.array(\n",
    "            [\n",
    "                [\n",
    "                    np.argmin(\n",
    "                        [\n",
    "                            self.euclidean_distance(x, self.weights[:, i, j])\n",
    "                            for i in range(self.M)\n",
    "                            for j in range(self.N)\n",
    "                        ]\n",
    "                    )\n",
    "                    for x in X\n",
    "                ]\n",
    "            ]\n",
    "        ).T"
   ]
  },
  {
   "cell_type": "markdown",
   "metadata": {},
   "source": [
    "## tests with numpy and speed "
   ]
  },
  {
   "cell_type": "code",
   "execution_count": 3,
   "metadata": {},
   "outputs": [
    {
     "data": {
      "text/plain": [
       "array([[[ 4.45124426, -0.85807422,  2.02991602,  2.15694688],\n",
       "        [-1.25335437,  3.74992866,  0.72209788, -0.09278415]],\n",
       "\n",
       "       [[ 0.49612447,  4.4536387 ,  1.51566875,  1.45954145],\n",
       "        [-0.21505229,  1.95818308,  3.46373891, -0.7811021 ]],\n",
       "\n",
       "       [[ 3.16589351,  2.24508445,  2.71556114, -0.50183024],\n",
       "        [ 2.05301053, -1.4736095 , -0.97559669,  0.88790141]]])"
      ]
     },
     "execution_count": 3,
     "metadata": {},
     "output_type": "execute_result"
    }
   ],
   "source": [
    "cube = pd.read_csv(\"./../data/kohonen/cube.csv\")\n",
    "cube_x = cube.drop(\"c\", axis=1).to_numpy()\n",
    "kohon = kohonen(2, 4, cube_x)\n",
    "weights = kohon.weights\n",
    "weights"
   ]
  },
  {
   "cell_type": "code",
   "execution_count": 4,
   "metadata": {},
   "outputs": [
    {
     "name": "stdout",
     "output_type": "stream",
     "text": [
      "Distance from 0, 0: 5.159113826822259\n",
      "Distance from 0, 1: 6.342749750129586\n",
      "Distance from 0, 2: 4.0814108042704715\n",
      "Distance from 0, 3: 3.0316573921578085\n",
      "Distance from 1, 0: 3.1139861701137486\n",
      "Distance from 1, 1: 4.556442578841188\n",
      "Distance from 1, 2: 4.771261819072919\n",
      "Distance from 1, 3: 1.3750035047045117\n"
     ]
    }
   ],
   "source": [
    "x = cube_x[40]\n",
    "for i in range(2):\n",
    "    for j in range(4):\n",
    "        distance = kohon.euclidean_distance(x, weights[:, i, j])\n",
    "        print(f\"Distance from {i}, {j}: {distance}\")"
   ]
  },
  {
   "cell_type": "code",
   "execution_count": 5,
   "metadata": {},
   "outputs": [
    {
     "data": {
      "text/plain": [
       "array([[5.15911383, 6.34274975, 4.0814108 , 3.03165739],\n",
       "       [3.11398617, 4.55644258, 4.77126182, 1.3750035 ]])"
      ]
     },
     "execution_count": 5,
     "metadata": {},
     "output_type": "execute_result"
    }
   ],
   "source": [
    "np.linalg.norm(weights.T - x, axis=2).T"
   ]
  },
  {
   "cell_type": "code",
   "execution_count": 6,
   "metadata": {},
   "outputs": [
    {
     "data": {
      "text/plain": [
       "(1, 3)"
      ]
     },
     "execution_count": 6,
     "metadata": {},
     "output_type": "execute_result"
    }
   ],
   "source": [
    "idx = np.argmin(np.linalg.norm(weights.T - x, axis=2).T)\n",
    "np.unravel_index(idx, weights[0].shape)"
   ]
  },
  {
   "cell_type": "markdown",
   "metadata": {},
   "source": [
    "### Testing if i broke something "
   ]
  },
  {
   "cell_type": "code",
   "execution_count": 17,
   "metadata": {},
   "outputs": [
    {
     "data": {
      "text/plain": [
       "0.9213659041726133"
      ]
     },
     "execution_count": 17,
     "metadata": {},
     "output_type": "execute_result"
    }
   ],
   "source": [
    "kohon = kohonen(2, 4, cube_x)\n",
    "kohon.train(cube_x, 10)\n",
    "cube[\"predicted\"] = kohon.predict(cube_x)\n",
    "v_measure_score(cube[\"c\"], cube[\"predicted\"])"
   ]
  },
  {
   "cell_type": "code",
   "execution_count": null,
   "metadata": {},
   "outputs": [],
   "source": []
  }
 ],
 "metadata": {
  "kernelspec": {
   "display_name": "asseco",
   "language": "python",
   "name": "python3"
  },
  "language_info": {
   "codemirror_mode": {
    "name": "ipython",
    "version": 3
   },
   "file_extension": ".py",
   "mimetype": "text/x-python",
   "name": "python",
   "nbconvert_exporter": "python",
   "pygments_lexer": "ipython3",
   "version": "3.10.4"
  }
 },
 "nbformat": 4,
 "nbformat_minor": 2
}
