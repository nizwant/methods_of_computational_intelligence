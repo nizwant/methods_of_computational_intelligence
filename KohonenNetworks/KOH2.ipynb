{
 "cells": [
  {
   "cell_type": "code",
   "execution_count": 2,
   "metadata": {},
   "outputs": [],
   "source": [
    "import numpy as np\n",
    "import matplotlib.pyplot as plt\n",
    "import pandas as pd\n",
    "from sklearn.metrics import v_measure_score\n",
    "from sklearn.metrics.cluster import contingency_matrix"
   ]
  },
  {
   "cell_type": "code",
   "execution_count": 3,
   "metadata": {},
   "outputs": [],
   "source": [
    "class kohonen:\n",
    "\n",
    "    def __init__(\n",
    "        self,\n",
    "        M,\n",
    "        N,\n",
    "        X,\n",
    "        learning_rate=0.1,\n",
    "        neighborhood_function=\"gauss\",\n",
    "        neighborhood_proximity=1.0,\n",
    "        lattice=\"rectangular\",\n",
    "    ):\n",
    "        self.M = M\n",
    "        self.N = N\n",
    "        self.learning_rate = learning_rate\n",
    "        self.input_dim = X.shape[1]\n",
    "        self.neighborhood_function = neighborhood_function\n",
    "        self.neighborhood_proximity = neighborhood_proximity\n",
    "        # its not working like this\n",
    "        # self.lattice_distances = np.zeros((M, N))\n",
    "        self.calculate_lattice_distances(M, N, lattice)\n",
    "        self.weights = np.random.uniform(0, 1, (self.input_dim, M, N))\n",
    "        minimum = np.min(X, axis=0)\n",
    "        maximum = np.max(X, axis=0)\n",
    "        for i in range(self.input_dim):\n",
    "            self.weights[i] = minimum[i] + (maximum[i] - minimum[i]) * self.weights[i]\n",
    "\n",
    "    def gauss_neighborhood(self, t, T):\n",
    "        return np.exp(-np.power(t * T * self.neighborhood_proximity, 2))\n",
    "\n",
    "    def calculate_lattice_distances(self, M, N, lattice):\n",
    "        if lattice == \"rectangular\":\n",
    "            pass\n",
    "        elif lattice == \"hexagonal\":\n",
    "            pass\n",
    "        else:\n",
    "            raise ValueError(\"Invalid lattice type\")\n",
    "\n",
    "    def mexican_hat_neighborhood(self, t, T):\n",
    "        return np.exp(-np.power(t * T * self.neighborhood_proximity, 2)) * (\n",
    "            2 - 4 * np.power(t * T * self.neighborhood_proximity, 2)\n",
    "        )\n",
    "\n",
    "    def euclidean_distance(self, x, y):\n",
    "        return np.linalg.norm(x - y)\n",
    "\n",
    "    def decay(self, t, iteration_num):\n",
    "        return self.learning_rate * np.exp(-t / iteration_num)\n",
    "\n",
    "    def train(self, X, max_epochs):\n",
    "        for epoch in range(max_epochs):\n",
    "            X = np.random.permutation(X)\n",
    "            decay_value = self.decay(epoch, max_epochs)\n",
    "            for x in X:\n",
    "                idx = np.argmin(np.linalg.norm(self.weights.T - x, axis=2).T)\n",
    "                bmu = np.unravel_index(idx, self.weights[0].shape)\n",
    "\n",
    "                for i in range(self.M):\n",
    "                    for j in range(self.N):\n",
    "                        distance_on_lattice = self.euclidean_distance(\n",
    "                            np.array(bmu), np.array([i, j])  # old approach change it\n",
    "                        )\n",
    "                        if self.neighborhood_function == \"gauss\":\n",
    "                            self.weights[:, i, j] += (\n",
    "                                decay_value\n",
    "                                * self.gauss_neighborhood(distance_on_lattice, epoch)\n",
    "                                * (x - self.weights[:, i, j])\n",
    "                            )\n",
    "                        elif self.neighborhood_function == \"mexican_hat\":\n",
    "                            self.weights[:, i, j] += (\n",
    "                                decay_value\n",
    "                                * self.mexican_hat_neighborhood(\n",
    "                                    distance_on_lattice, epoch\n",
    "                                )\n",
    "                                * (x - self.weights[:, i, j])\n",
    "                            )\n",
    "                        else:\n",
    "                            raise ValueError(\"Invalid neighborhood function\")\n",
    "\n",
    "    def predict(self, X):\n",
    "        return np.array(\n",
    "            [\n",
    "                [\n",
    "                    np.argmin(\n",
    "                        [\n",
    "                            self.euclidean_distance(x, self.weights[:, i, j])\n",
    "                            for i in range(self.M)\n",
    "                            for j in range(self.N)\n",
    "                        ]\n",
    "                    )\n",
    "                    for x in X\n",
    "                ]\n",
    "            ]\n",
    "        ).T"
   ]
  },
  {
   "cell_type": "markdown",
   "metadata": {},
   "source": [
    "## tests with numpy and speed "
   ]
  },
  {
   "cell_type": "code",
   "execution_count": 4,
   "metadata": {},
   "outputs": [
    {
     "data": {
      "text/plain": [
       "array([[[ 0.13264713, -0.42958926,  3.26887622, -0.72481347],\n",
       "        [ 0.24532299,  0.51038657,  1.17049259,  1.20991392]],\n",
       "\n",
       "       [[ 2.51401079,  2.85196637,  2.52165771,  0.96726661],\n",
       "        [ 3.88249407,  0.7059975 , -1.48886976, -1.59955556]],\n",
       "\n",
       "       [[ 2.12626613,  3.44430267, -0.31301083, -0.29741389],\n",
       "        [ 1.44464289,  2.66504052, -1.41064882,  1.65133269]]])"
      ]
     },
     "execution_count": 4,
     "metadata": {},
     "output_type": "execute_result"
    }
   ],
   "source": [
    "cube = pd.read_csv(\"./../data/kohonen/cube.csv\")\n",
    "cube_x = cube.drop(\"c\", axis=1).to_numpy()\n",
    "kohon = kohonen(2, 4, cube_x)\n",
    "weights = kohon.weights\n",
    "weights"
   ]
  },
  {
   "cell_type": "code",
   "execution_count": 55,
   "metadata": {},
   "outputs": [
    {
     "name": "stdout",
     "output_type": "stream",
     "text": [
      "Distance from 0, 0: 4.37548443240574\n",
      "Distance from 0, 1: 5.508811599364567\n",
      "Distance from 0, 2: 4.485015386335958\n",
      "Distance from 0, 3: 2.678251572423774\n",
      "Distance from 1, 0: 5.346013431022207\n",
      "Distance from 1, 1: 3.3463046502404534\n",
      "Distance from 1, 2: 1.427812308301886\n",
      "Distance from 1, 3: 1.7968183290150779\n"
     ]
    }
   ],
   "source": [
    "x = cube_x[40]\n",
    "for i in range(2):\n",
    "    for j in range(4):\n",
    "        distance = kohon.euclidean_distance(x, weights[:, i, j])\n",
    "        print(f\"Distance from {i}, {j}: {distance}\")"
   ]
  },
  {
   "cell_type": "code",
   "execution_count": 56,
   "metadata": {},
   "outputs": [
    {
     "data": {
      "text/plain": [
       "array([[4.37548443, 5.5088116 , 4.48501539, 2.67825157],\n",
       "       [5.34601343, 3.34630465, 1.42781231, 1.79681833]])"
      ]
     },
     "execution_count": 56,
     "metadata": {},
     "output_type": "execute_result"
    }
   ],
   "source": [
    "np.linalg.norm(weights.T - x, axis=2).T"
   ]
  },
  {
   "cell_type": "code",
   "execution_count": 57,
   "metadata": {},
   "outputs": [
    {
     "data": {
      "text/plain": [
       "(1, 2)"
      ]
     },
     "execution_count": 57,
     "metadata": {},
     "output_type": "execute_result"
    }
   ],
   "source": [
    "idx = np.argmin(np.linalg.norm(weights.T - x, axis=2).T)\n",
    "np.unravel_index(idx, weights[0].shape)"
   ]
  },
  {
   "cell_type": "code",
   "execution_count": null,
   "metadata": {},
   "outputs": [],
   "source": []
  }
 ],
 "metadata": {
  "kernelspec": {
   "display_name": "asseco",
   "language": "python",
   "name": "python3"
  },
  "language_info": {
   "codemirror_mode": {
    "name": "ipython",
    "version": 3
   },
   "file_extension": ".py",
   "mimetype": "text/x-python",
   "name": "python",
   "nbconvert_exporter": "python",
   "pygments_lexer": "ipython3",
   "version": "3.10.4"
  }
 },
 "nbformat": 4,
 "nbformat_minor": 2
}
