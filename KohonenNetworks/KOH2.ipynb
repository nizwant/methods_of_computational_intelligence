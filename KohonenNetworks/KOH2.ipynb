{
 "cells": [
  {
   "cell_type": "code",
   "execution_count": 5,
   "metadata": {},
   "outputs": [],
   "source": [
    "import numpy as np\n",
    "import matplotlib.pyplot as plt\n",
    "import pandas as pd\n",
    "from sklearn.metrics import v_measure_score\n",
    "from sklearn.metrics.cluster import contingency_matrix"
   ]
  },
  {
   "cell_type": "code",
   "execution_count": 150,
   "metadata": {},
   "outputs": [],
   "source": [
    "class kohonen:\n",
    "\n",
    "    def __init__(\n",
    "        self,\n",
    "        M,\n",
    "        N,\n",
    "        X,\n",
    "        learning_rate=0.1,\n",
    "        gauss_neighborhood_function=True,\n",
    "        neighborhood_proximity=1.0,\n",
    "        lattice=\"rectangular\",\n",
    "    ):\n",
    "        self.M = M\n",
    "        self.N = N\n",
    "        self.learning_rate = learning_rate\n",
    "        self.input_dim = X.shape[1]\n",
    "        if gauss_neighborhood_function:\n",
    "            self.neighborhood_function = self.gauss_neighborhood\n",
    "        else:\n",
    "            self.neighborhood_function = self.mexican_hat_neighborhood\n",
    "        self.neighborhood_proximity = neighborhood_proximity\n",
    "        self.index_array = np.array(\n",
    "            [\n",
    "                np.arange(M).repeat(N).reshape(M, N),\n",
    "                np.arange(N).repeat(M).reshape(N, M).T,\n",
    "            ]\n",
    "        )\n",
    "        if lattice == \"hexagonal\":\n",
    "            pass\n",
    "\n",
    "        # weights initialization\n",
    "        self.weights = np.random.uniform(0, 1, (self.input_dim, M, N))\n",
    "        minimum = np.min(X, axis=0)\n",
    "        maximum = np.max(X, axis=0)\n",
    "        for i in range(self.input_dim):\n",
    "            self.weights[i] = minimum[i] + (maximum[i] - minimum[i]) * self.weights[i]\n",
    "\n",
    "    def gauss_neighborhood(self, distance, epoch):\n",
    "        return np.exp(-np.power(distance * epoch * self.neighborhood_proximity, 2))\n",
    "\n",
    "    def mexican_hat_neighborhood(self, distance, epoch):\n",
    "        return np.exp(-np.power(distance * epoch * self.neighborhood_proximity, 2)) * (\n",
    "            2 - 4 * np.power(distance * epoch * self.neighborhood_proximity, 2)\n",
    "        )\n",
    "\n",
    "    def euclidean_distance(self, x, y):\n",
    "        return np.linalg.norm(x - y)\n",
    "\n",
    "    def decay(self, t, iteration_num):\n",
    "        return self.learning_rate * np.exp(-t / iteration_num)\n",
    "\n",
    "    def train(self, X, max_epochs):\n",
    "        for epoch in range(max_epochs):\n",
    "            X = np.random.permutation(X)\n",
    "            decay_value = self.decay(epoch, max_epochs)\n",
    "            for x in X:\n",
    "                # finding the best matching unit (index of the neuron with the smallest distance to the input vector x)\n",
    "                idx = np.argmin(np.linalg.norm(self.weights.T - x, axis=2).T)\n",
    "                bmu = np.unravel_index(idx, self.weights[0].shape)\n",
    "\n",
    "                # updating weights\n",
    "                distance_on_lattice_matrix = np.linalg.norm(\n",
    "                    (self.index_array.T - np.array(bmu)),\n",
    "                    axis=2,\n",
    "                ).T\n",
    "                neighborhood = self.neighborhood_function(\n",
    "                    distance_on_lattice_matrix, epoch\n",
    "                )\n",
    "                self.weights += decay_value * neighborhood * (x - self.weights.T).T\n",
    "\n",
    "    def predict(self, X):\n",
    "        return np.array(\n",
    "            [\n",
    "                [\n",
    "                    np.argmin(\n",
    "                        [\n",
    "                            self.euclidean_distance(x, self.weights[:, i, j])\n",
    "                            for i in range(self.M)\n",
    "                            for j in range(self.N)\n",
    "                        ]\n",
    "                    )\n",
    "                    for x in X\n",
    "                ]\n",
    "            ]\n",
    "        ).T"
   ]
  },
  {
   "cell_type": "markdown",
   "metadata": {},
   "source": [
    "## tests with numpy and speed "
   ]
  },
  {
   "cell_type": "markdown",
   "metadata": {},
   "source": [
    "### First loop"
   ]
  },
  {
   "cell_type": "code",
   "execution_count": 8,
   "metadata": {},
   "outputs": [
    {
     "data": {
      "text/plain": [
       "array([[[-1.01156814,  2.66328134,  2.38491856,  0.96708048],\n",
       "        [ 1.93136495,  2.71473683,  2.05809027,  0.0631648 ]],\n",
       "\n",
       "       [[-1.56559317,  0.87695878,  3.59341698,  4.21392388],\n",
       "        [ 4.05699271, -0.33768321, -0.51779918,  5.54942807]],\n",
       "\n",
       "       [[ 2.9794021 ,  0.55741637,  1.93910687, -1.23854172],\n",
       "        [ 2.7368817 , -1.32376104,  2.11437958,  0.04835879]]])"
      ]
     },
     "execution_count": 8,
     "metadata": {},
     "output_type": "execute_result"
    }
   ],
   "source": [
    "cube = pd.read_csv(\"./../data/kohonen/cube.csv\")\n",
    "cube_x = cube.drop(\"c\", axis=1).to_numpy()\n",
    "kohon = kohonen(2, 4, cube_x)\n",
    "weights = kohon.weights\n",
    "weights"
   ]
  },
  {
   "cell_type": "code",
   "execution_count": 9,
   "metadata": {},
   "outputs": [
    {
     "name": "stdout",
     "output_type": "stream",
     "text": [
      "Distance from 0, 0: 3.5558179704295325\n",
      "Distance from 0, 1: 2.866371117384524\n",
      "Distance from 0, 2: 5.442909346943757\n",
      "Distance from 0, 3: 5.560814488417281\n",
      "Distance from 1, 0: 6.074152819974137\n",
      "Distance from 1, 1: 2.4542857746727833\n",
      "Distance from 1, 2: 2.602766244666087\n",
      "Distance from 1, 3: 6.808399161649306\n"
     ]
    }
   ],
   "source": [
    "x = cube_x[40]\n",
    "for i in range(2):\n",
    "    for j in range(4):\n",
    "        distance = kohon.euclidean_distance(x, weights[:, i, j])\n",
    "        print(f\"Distance from {i}, {j}: {distance}\")"
   ]
  },
  {
   "cell_type": "code",
   "execution_count": 10,
   "metadata": {},
   "outputs": [
    {
     "data": {
      "text/plain": [
       "array([[3.55581797, 2.86637112, 5.44290935, 5.56081449],\n",
       "       [6.07415282, 2.45428577, 2.60276624, 6.80839916]])"
      ]
     },
     "execution_count": 10,
     "metadata": {},
     "output_type": "execute_result"
    }
   ],
   "source": [
    "np.linalg.norm(weights.T - x, axis=2).T"
   ]
  },
  {
   "cell_type": "code",
   "execution_count": 11,
   "metadata": {},
   "outputs": [
    {
     "data": {
      "text/plain": [
       "(1, 1)"
      ]
     },
     "execution_count": 11,
     "metadata": {},
     "output_type": "execute_result"
    }
   ],
   "source": [
    "idx = np.argmin(np.linalg.norm(weights.T - x, axis=2).T)\n",
    "np.unravel_index(idx, weights[0].shape)"
   ]
  },
  {
   "cell_type": "markdown",
   "metadata": {},
   "source": [
    "#### Testing if i broke something "
   ]
  },
  {
   "cell_type": "code",
   "execution_count": 12,
   "metadata": {},
   "outputs": [
    {
     "data": {
      "text/plain": [
       "0.9184550780838783"
      ]
     },
     "execution_count": 12,
     "metadata": {},
     "output_type": "execute_result"
    }
   ],
   "source": [
    "kohon = kohonen(2, 4, cube_x)\n",
    "kohon.train(cube_x, 10)\n",
    "cube[\"predicted\"] = kohon.predict(cube_x)\n",
    "v_measure_score(cube[\"c\"], cube[\"predicted\"])"
   ]
  },
  {
   "cell_type": "markdown",
   "metadata": {},
   "source": [
    "### Getting rid of second loop"
   ]
  },
  {
   "cell_type": "code",
   "execution_count": 14,
   "metadata": {},
   "outputs": [
    {
     "name": "stdout",
     "output_type": "stream",
     "text": [
      "Distance from 0, 0: 1.0\n",
      "Distance from 0, 1: 0.0\n",
      "Distance from 0, 2: 1.0\n",
      "Distance from 0, 3: 2.0\n",
      "Distance from 1, 0: 1.4142135623730951\n",
      "Distance from 1, 1: 1.0\n",
      "Distance from 1, 2: 1.4142135623730951\n",
      "Distance from 1, 3: 2.23606797749979\n"
     ]
    }
   ],
   "source": [
    "bmu = (0, 1)\n",
    "for i in range(2):\n",
    "    for j in range(4):\n",
    "        distance_on_lattice = kohon.euclidean_distance(\n",
    "            np.array(bmu), np.array([i, j])  # old approach change it\n",
    "        )\n",
    "        print(f\"Distance from {i}, {j}: {distance_on_lattice}\")"
   ]
  },
  {
   "cell_type": "code",
   "execution_count": 23,
   "metadata": {},
   "outputs": [
    {
     "data": {
      "text/plain": [
       "array([[0, 1, 2, 3],\n",
       "       [0, 1, 2, 3]])"
      ]
     },
     "execution_count": 23,
     "metadata": {},
     "output_type": "execute_result"
    }
   ],
   "source": [
    "# create a matrix of distances from the BMU without looping\n",
    "bmu = (0, 1)\n",
    "np.arange(4).repeat(2).reshape(4, 2).T"
   ]
  },
  {
   "cell_type": "code",
   "execution_count": 25,
   "metadata": {},
   "outputs": [
    {
     "data": {
      "text/plain": [
       "array([[0, 0, 0, 0],\n",
       "       [1, 1, 1, 1]])"
      ]
     },
     "execution_count": 25,
     "metadata": {},
     "output_type": "execute_result"
    }
   ],
   "source": [
    "np.arange(2).repeat(4).reshape(2, 4)"
   ]
  },
  {
   "cell_type": "code",
   "execution_count": 29,
   "metadata": {},
   "outputs": [
    {
     "data": {
      "text/plain": [
       "array([[[ 0,  1,  2,  3],\n",
       "        [ 0,  1,  2,  3]],\n",
       "\n",
       "       [[-1, -1, -1, -1],\n",
       "        [ 0,  0,  0,  0]]])"
      ]
     },
     "execution_count": 29,
     "metadata": {},
     "output_type": "execute_result"
    }
   ],
   "source": [
    "# create a 3d numpy array with the two above arrays\n",
    "(\n",
    "    np.array(\n",
    "        [np.arange(4).repeat(2).reshape(4, 2).T, np.arange(2).repeat(4).reshape(2, 4)]\n",
    "    ).T\n",
    "    - np.array(bmu)\n",
    ").T"
   ]
  },
  {
   "cell_type": "code",
   "execution_count": 108,
   "metadata": {},
   "outputs": [
    {
     "data": {
      "text/plain": [
       "array([[1.        , 0.        , 1.        , 2.        , 3.        ],\n",
       "       [1.41421356, 1.        , 1.41421356, 2.23606798, 3.16227766],\n",
       "       [2.23606798, 2.        , 2.23606798, 2.82842712, 3.60555128],\n",
       "       [3.16227766, 3.        , 3.16227766, 3.60555128, 4.24264069]])"
      ]
     },
     "execution_count": 108,
     "metadata": {},
     "output_type": "execute_result"
    }
   ],
   "source": [
    "bmu = (0, 1)\n",
    "M = 4\n",
    "N = 5\n",
    "distance_matrix = np.linalg.norm(\n",
    "    (\n",
    "        np.array(\n",
    "            [\n",
    "                np.arange(N).repeat(M).reshape(N, M).T,\n",
    "                np.arange(M).repeat(N).reshape(M, N),\n",
    "            ]\n",
    "        ).T\n",
    "        - np.flip(np.array(bmu))\n",
    "    ),\n",
    "    axis=2,\n",
    ").T\n",
    "distance_matrix"
   ]
  },
  {
   "cell_type": "code",
   "execution_count": 51,
   "metadata": {},
   "outputs": [
    {
     "data": {
      "text/plain": [
       "array([[4.53999298e-05, 6.73794700e-03, 1.35335283e-01, 3.67879441e-01,\n",
       "        1.35335283e-01],\n",
       "       [1.23409804e-04, 1.83156389e-02, 3.67879441e-01, 1.00000000e+00,\n",
       "        3.67879441e-01],\n",
       "       [4.53999298e-05, 6.73794700e-03, 1.35335283e-01, 3.67879441e-01,\n",
       "        1.35335283e-01],\n",
       "       [2.26032941e-06, 3.35462628e-04, 6.73794700e-03, 1.83156389e-02,\n",
       "        6.73794700e-03]])"
      ]
     },
     "execution_count": 51,
     "metadata": {},
     "output_type": "execute_result"
    }
   ],
   "source": [
    "neighborhood = kohon.gauss_neighborhood(distance_matrix, 1)\n",
    "neighborhood"
   ]
  },
  {
   "cell_type": "markdown",
   "metadata": {},
   "source": [
    "### \"Last element\" "
   ]
  },
  {
   "cell_type": "code",
   "execution_count": 52,
   "metadata": {},
   "outputs": [
    {
     "name": "stdout",
     "output_type": "stream",
     "text": [
      "[-1.46541931e-04 -1.30863258e-04  8.68556351e-06]\n",
      "[ 0.01387682 -0.02973736  0.01283148]\n",
      "[-0.13659399 -0.50882717  0.26557336]\n",
      "[-1.58064634 -1.70975568 -0.92180129]\n",
      "[-0.05060342 -0.62222693  0.08767909]\n",
      "[ 0.00020292 -0.0005306  -0.00025015]\n",
      "[-0.06355731 -0.05002787 -0.0076145 ]\n",
      "[-1.37800892 -0.64991787  0.66812845]\n",
      "[-0.10809417 -0.63803726  0.18380338]\n",
      "[ 0.33110226 -0.92262857 -0.24134313]\n",
      "[-1.04209983e-04 -1.72888916e-04 -1.44869419e-05]\n",
      "[ 0.00074171 -0.03822084  0.00768309]\n",
      "[-0.32856869  0.06858943  0.07383868]\n",
      "[-0.45824852 -1.33309321 -0.06224104]\n",
      "[-0.51421478  0.07218714  0.14132349]\n",
      "[ 4.79778955e-06  3.47770458e-06 -6.98766558e-06]\n",
      "[-0.00133077 -0.00051455 -0.00024041]\n",
      "[-0.01107501 -0.02463341  0.01148345]\n",
      "[-0.07555434 -0.0738847  -0.05000482]\n",
      "[-0.02839498  0.00412196 -0.01166701]\n"
     ]
    }
   ],
   "source": [
    "kohon = kohonen(M, N, cube_x)\n",
    "weights = kohon.weights\n",
    "x = cube_x[0]\n",
    "for i in range(M):\n",
    "    for j in range(N):\n",
    "        print(neighborhood[i, j] * (x - weights[:, i, j]))"
   ]
  },
  {
   "cell_type": "code",
   "execution_count": 63,
   "metadata": {},
   "outputs": [
    {
     "data": {
      "text/plain": [
       "array([[[-1.46541931e-04,  1.38768155e-02, -1.36593991e-01,\n",
       "         -1.58064634e+00, -5.06034162e-02],\n",
       "        [ 2.02917338e-04, -6.35573053e-02, -1.37800892e+00,\n",
       "         -1.08094172e-01,  3.31102260e-01],\n",
       "        [-1.04209983e-04,  7.41705521e-04, -3.28568691e-01,\n",
       "         -4.58248524e-01, -5.14214777e-01],\n",
       "        [ 4.79778955e-06, -1.33076589e-03, -1.10750054e-02,\n",
       "         -7.55543446e-02, -2.83949824e-02]],\n",
       "\n",
       "       [[-1.30863258e-04, -2.97373589e-02, -5.08827166e-01,\n",
       "         -1.70975568e+00, -6.22226927e-01],\n",
       "        [-5.30603492e-04, -5.00278722e-02, -6.49917869e-01,\n",
       "         -6.38037260e-01, -9.22628566e-01],\n",
       "        [-1.72888916e-04, -3.82208368e-02,  6.85894254e-02,\n",
       "         -1.33309321e+00,  7.21871430e-02],\n",
       "        [ 3.47770458e-06, -5.14545603e-04, -2.46334072e-02,\n",
       "         -7.38847040e-02,  4.12196152e-03]],\n",
       "\n",
       "       [[ 8.68556351e-06,  1.28314758e-02,  2.65573361e-01,\n",
       "         -9.21801293e-01,  8.76790892e-02],\n",
       "        [-2.50150472e-04, -7.61450403e-03,  6.68128445e-01,\n",
       "          1.83803377e-01, -2.41343129e-01],\n",
       "        [-1.44869419e-05,  7.68309084e-03,  7.38386804e-02,\n",
       "         -6.22410418e-02,  1.41323491e-01],\n",
       "        [-6.98766558e-06, -2.40408566e-04,  1.14834455e-02,\n",
       "         -5.00048214e-02, -1.16670054e-02]]])"
      ]
     },
     "execution_count": 63,
     "metadata": {},
     "output_type": "execute_result"
    }
   ],
   "source": [
    "neighborhood * (x - weights.T).T"
   ]
  },
  {
   "cell_type": "code",
   "execution_count": 153,
   "metadata": {},
   "outputs": [
    {
     "data": {
      "text/plain": [
       "0.9175586798969554"
      ]
     },
     "execution_count": 153,
     "metadata": {},
     "output_type": "execute_result"
    }
   ],
   "source": [
    "kohon = kohonen(2, 4, cube_x)\n",
    "kohon.train(cube_x, 100)\n",
    "cube[\"predicted\"] = kohon.predict(cube_x)\n",
    "v_measure_score(cube[\"c\"], cube[\"predicted\"])"
   ]
  },
  {
   "cell_type": "markdown",
   "metadata": {},
   "source": [
    "## Actual KOH2"
   ]
  },
  {
   "cell_type": "code",
   "execution_count": 160,
   "metadata": {},
   "outputs": [],
   "source": [
    "def plot_lattice_grid(network):\n",
    "    plt.figure(figsize=(10, 10))\n",
    "    for i in range(network.M):\n",
    "        for j in range(network.N):\n",
    "            plt.plot(network.index_array[1, i, j], network.index_array[0, i, j], \"bo\")\n",
    "\n",
    "            if i > 0:\n",
    "                plt.plot(\n",
    "                    [network.index_array[1, i, j], network.index_array[1, i - 1, j]],\n",
    "                    [network.index_array[0, i, j], network.index_array[0, i - 1, j]],\n",
    "                    \"k--\",\n",
    "                )\n",
    "            if j > 0:\n",
    "                plt.plot(\n",
    "                    [network.index_array[1, i, j], network.index_array[1, i, j - 1]],\n",
    "                    [network.index_array[0, i, j], network.index_array[0, i, j - 1]],\n",
    "                    \"k--\",\n",
    "                )\n",
    "    plt.title(\"Network lattice grid\")"
   ]
  },
  {
   "cell_type": "code",
   "execution_count": 161,
   "metadata": {},
   "outputs": [
    {
     "data": {
      "image/png": "[encoded data removed]",
      "text/plain": [
       "<Figure size 1000x1000 with 1 Axes>"
      ]
     },
     "metadata": {},
     "output_type": "display_data"
    }
   ],
   "source": [
    "kochon = kohonen(3, 5, cube_x)\n",
    "plot_lattice_grid(kochon)"
   ]
  },
  {
   "cell_type": "code",
   "execution_count": 162,
   "metadata": {},
   "outputs": [
    {
     "data": {
      "text/plain": [
       "array([[[0, 0, 0, 0, 0],\n",
       "        [1, 1, 1, 1, 1],\n",
       "        [2, 2, 2, 2, 2],\n",
       "        [3, 3, 3, 3, 3]],\n",
       "\n",
       "       [[0, 1, 2, 3, 4],\n",
       "        [0, 1, 2, 3, 4],\n",
       "        [0, 1, 2, 3, 4],\n",
       "        [0, 1, 2, 3, 4]]])"
      ]
     },
     "execution_count": 162,
     "metadata": {},
     "output_type": "execute_result"
    }
   ],
   "source": [
    "M = 4\n",
    "N = 5\n",
    "index_array = np.array(\n",
    "    [\n",
    "        np.arange(M).repeat(N).reshape(M, N),\n",
    "        np.arange(N).repeat(M).reshape(N, M).T,\n",
    "    ]\n",
    ")\n",
    "index_array"
   ]
  },
  {
   "cell_type": "code",
   "execution_count": null,
   "metadata": {},
   "outputs": [],
   "source": []
  }
 ],
 "metadata": {
  "kernelspec": {
   "display_name": "asseco",
   "language": "python",
   "name": "python3"
  },
  "language_info": {
   "codemirror_mode": {
    "name": "ipython",
    "version": 3
   },
   "file_extension": ".py",
   "mimetype": "text/x-python",
   "name": "python",
   "nbconvert_exporter": "python",
   "pygments_lexer": "ipython3",
   "version": "3.10.4"
  }
 },
 "nbformat": 4,
 "nbformat_minor": 2
}
