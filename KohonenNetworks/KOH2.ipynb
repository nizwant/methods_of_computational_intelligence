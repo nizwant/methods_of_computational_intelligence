{
 "cells": [
  {
   "cell_type": "code",
   "execution_count": 5,
   "metadata": {},
   "outputs": [],
   "source": [
    "import numpy as np\n",
    "import matplotlib.pyplot as plt\n",
    "import pandas as pd\n",
    "from sklearn.metrics import v_measure_score\n",
    "from sklearn.metrics.cluster import contingency_matrix"
   ]
  },
  {
   "cell_type": "code",
   "execution_count": 40,
   "metadata": {},
   "outputs": [],
   "source": [
    "class kohonen:\n",
    "\n",
    "    def __init__(\n",
    "        self,\n",
    "        M,\n",
    "        N,\n",
    "        X,\n",
    "        learning_rate=0.1,\n",
    "        gauss_neighborhood_function=True,\n",
    "        neighborhood_proximity=1.0,\n",
    "        lattice=\"rectangular\",\n",
    "    ):\n",
    "        self.M = M\n",
    "        self.N = N\n",
    "        self.learning_rate = learning_rate\n",
    "        self.input_dim = X.shape[1]\n",
    "        if gauss_neighborhood_function:\n",
    "            self.neighborhood_function = self.gauss_neighborhood\n",
    "        else:\n",
    "            self.neighborhood_function = self.mexican_hat_neighborhood\n",
    "        self.neighborhood_proximity = neighborhood_proximity\n",
    "        # its not working like this\n",
    "        # self.lattice_distances = np.zeros((M, N))\n",
    "        self.calculate_lattice_distances(M, N, lattice)\n",
    "        self.weights = np.random.uniform(0, 1, (self.input_dim, M, N))\n",
    "        minimum = np.min(X, axis=0)\n",
    "        maximum = np.max(X, axis=0)\n",
    "        for i in range(self.input_dim):\n",
    "            self.weights[i] = minimum[i] + (maximum[i] - minimum[i]) * self.weights[i]\n",
    "\n",
    "    def calculate_lattice_distances(self, M, N, lattice):\n",
    "        if lattice == \"rectangular\":\n",
    "            pass\n",
    "        elif lattice == \"hexagonal\":\n",
    "            pass\n",
    "        else:\n",
    "            raise ValueError(\"Invalid lattice type\")\n",
    "\n",
    "    def gauss_neighborhood(self, distance, epoch):\n",
    "        return np.exp(-np.power(distance * epoch * self.neighborhood_proximity, 2))\n",
    "\n",
    "    def mexican_hat_neighborhood(self, distance, epoch):\n",
    "        return np.exp(-np.power(distance * epoch * self.neighborhood_proximity, 2)) * (\n",
    "            2 - 4 * np.power(distance * epoch * self.neighborhood_proximity, 2)\n",
    "        )\n",
    "\n",
    "    def euclidean_distance(self, x, y):\n",
    "        return np.linalg.norm(x - y)\n",
    "\n",
    "    def decay(self, t, iteration_num):\n",
    "        return self.learning_rate * np.exp(-t / iteration_num)\n",
    "\n",
    "    def train(self, X, max_epochs):\n",
    "        for epoch in range(max_epochs):\n",
    "            X = np.random.permutation(X)\n",
    "            decay_value = self.decay(epoch, max_epochs)\n",
    "            for x in X:\n",
    "                idx = np.argmin(np.linalg.norm(self.weights.T - x, axis=2).T)\n",
    "                bmu = np.unravel_index(idx, self.weights[0].shape)\n",
    "\n",
    "                for i in range(self.M):\n",
    "                    for j in range(self.N):\n",
    "                        distance_on_lattice = self.euclidean_distance(\n",
    "                            np.array(bmu), np.array([i, j])  # old approach change it\n",
    "                        )\n",
    "                        self.weights[:, i, j] += (\n",
    "                            decay_value\n",
    "                            * self.neighborhood_function(distance_on_lattice, epoch)\n",
    "                            * (x - self.weights[:, i, j])\n",
    "                        )\n",
    "\n",
    "    def predict(self, X):\n",
    "        return np.array(\n",
    "            [\n",
    "                [\n",
    "                    np.argmin(\n",
    "                        [\n",
    "                            self.euclidean_distance(x, self.weights[:, i, j])\n",
    "                            for i in range(self.M)\n",
    "                            for j in range(self.N)\n",
    "                        ]\n",
    "                    )\n",
    "                    for x in X\n",
    "                ]\n",
    "            ]\n",
    "        ).T"
   ]
  },
  {
   "cell_type": "markdown",
   "metadata": {},
   "source": [
    "## tests with numpy and speed "
   ]
  },
  {
   "cell_type": "code",
   "execution_count": 8,
   "metadata": {},
   "outputs": [
    {
     "data": {
      "text/plain": [
       "array([[[-1.01156814,  2.66328134,  2.38491856,  0.96708048],\n",
       "        [ 1.93136495,  2.71473683,  2.05809027,  0.0631648 ]],\n",
       "\n",
       "       [[-1.56559317,  0.87695878,  3.59341698,  4.21392388],\n",
       "        [ 4.05699271, -0.33768321, -0.51779918,  5.54942807]],\n",
       "\n",
       "       [[ 2.9794021 ,  0.55741637,  1.93910687, -1.23854172],\n",
       "        [ 2.7368817 , -1.32376104,  2.11437958,  0.04835879]]])"
      ]
     },
     "execution_count": 8,
     "metadata": {},
     "output_type": "execute_result"
    }
   ],
   "source": [
    "cube = pd.read_csv(\"./../data/kohonen/cube.csv\")\n",
    "cube_x = cube.drop(\"c\", axis=1).to_numpy()\n",
    "kohon = kohonen(2, 4, cube_x)\n",
    "weights = kohon.weights\n",
    "weights"
   ]
  },
  {
   "cell_type": "code",
   "execution_count": 9,
   "metadata": {},
   "outputs": [
    {
     "name": "stdout",
     "output_type": "stream",
     "text": [
      "Distance from 0, 0: 3.5558179704295325\n",
      "Distance from 0, 1: 2.866371117384524\n",
      "Distance from 0, 2: 5.442909346943757\n",
      "Distance from 0, 3: 5.560814488417281\n",
      "Distance from 1, 0: 6.074152819974137\n",
      "Distance from 1, 1: 2.4542857746727833\n",
      "Distance from 1, 2: 2.602766244666087\n",
      "Distance from 1, 3: 6.808399161649306\n"
     ]
    }
   ],
   "source": [
    "x = cube_x[40]\n",
    "for i in range(2):\n",
    "    for j in range(4):\n",
    "        distance = kohon.euclidean_distance(x, weights[:, i, j])\n",
    "        print(f\"Distance from {i}, {j}: {distance}\")"
   ]
  },
  {
   "cell_type": "code",
   "execution_count": 10,
   "metadata": {},
   "outputs": [
    {
     "data": {
      "text/plain": [
       "array([[3.55581797, 2.86637112, 5.44290935, 5.56081449],\n",
       "       [6.07415282, 2.45428577, 2.60276624, 6.80839916]])"
      ]
     },
     "execution_count": 10,
     "metadata": {},
     "output_type": "execute_result"
    }
   ],
   "source": [
    "np.linalg.norm(weights.T - x, axis=2).T"
   ]
  },
  {
   "cell_type": "code",
   "execution_count": 11,
   "metadata": {},
   "outputs": [
    {
     "data": {
      "text/plain": [
       "(1, 1)"
      ]
     },
     "execution_count": 11,
     "metadata": {},
     "output_type": "execute_result"
    }
   ],
   "source": [
    "idx = np.argmin(np.linalg.norm(weights.T - x, axis=2).T)\n",
    "np.unravel_index(idx, weights[0].shape)"
   ]
  },
  {
   "cell_type": "markdown",
   "metadata": {},
   "source": [
    "### Testing if i broke something "
   ]
  },
  {
   "cell_type": "code",
   "execution_count": 12,
   "metadata": {},
   "outputs": [
    {
     "data": {
      "text/plain": [
       "0.9184550780838783"
      ]
     },
     "execution_count": 12,
     "metadata": {},
     "output_type": "execute_result"
    }
   ],
   "source": [
    "kohon = kohonen(2, 4, cube_x)\n",
    "kohon.train(cube_x, 10)\n",
    "cube[\"predicted\"] = kohon.predict(cube_x)\n",
    "v_measure_score(cube[\"c\"], cube[\"predicted\"])"
   ]
  },
  {
   "cell_type": "markdown",
   "metadata": {},
   "source": [
    "# getting rid of second loop"
   ]
  },
  {
   "cell_type": "code",
   "execution_count": 14,
   "metadata": {},
   "outputs": [
    {
     "name": "stdout",
     "output_type": "stream",
     "text": [
      "Distance from 0, 0: 1.0\n",
      "Distance from 0, 1: 0.0\n",
      "Distance from 0, 2: 1.0\n",
      "Distance from 0, 3: 2.0\n",
      "Distance from 1, 0: 1.4142135623730951\n",
      "Distance from 1, 1: 1.0\n",
      "Distance from 1, 2: 1.4142135623730951\n",
      "Distance from 1, 3: 2.23606797749979\n"
     ]
    }
   ],
   "source": [
    "bmu = (0, 1)\n",
    "for i in range(2):\n",
    "    for j in range(4):\n",
    "        distance_on_lattice = kohon.euclidean_distance(\n",
    "            np.array(bmu), np.array([i, j])  # old approach change it\n",
    "        )\n",
    "        print(f\"Distance from {i}, {j}: {distance_on_lattice}\")"
   ]
  },
  {
   "cell_type": "code",
   "execution_count": 23,
   "metadata": {},
   "outputs": [
    {
     "data": {
      "text/plain": [
       "array([[0, 1, 2, 3],\n",
       "       [0, 1, 2, 3]])"
      ]
     },
     "execution_count": 23,
     "metadata": {},
     "output_type": "execute_result"
    }
   ],
   "source": [
    "# create a matrix of distances from the BMU without looping\n",
    "bmu = (0, 1)\n",
    "np.arange(4).repeat(2).reshape(4, 2).T"
   ]
  },
  {
   "cell_type": "code",
   "execution_count": 25,
   "metadata": {},
   "outputs": [
    {
     "data": {
      "text/plain": [
       "array([[0, 0, 0, 0],\n",
       "       [1, 1, 1, 1]])"
      ]
     },
     "execution_count": 25,
     "metadata": {},
     "output_type": "execute_result"
    }
   ],
   "source": [
    "np.arange(2).repeat(4).reshape(2, 4)"
   ]
  },
  {
   "cell_type": "code",
   "execution_count": 29,
   "metadata": {},
   "outputs": [
    {
     "data": {
      "text/plain": [
       "array([[[ 0,  1,  2,  3],\n",
       "        [ 0,  1,  2,  3]],\n",
       "\n",
       "       [[-1, -1, -1, -1],\n",
       "        [ 0,  0,  0,  0]]])"
      ]
     },
     "execution_count": 29,
     "metadata": {},
     "output_type": "execute_result"
    }
   ],
   "source": [
    "# create a 3d numpy array with the two above arrays\n",
    "(\n",
    "    np.array(\n",
    "        [np.arange(4).repeat(2).reshape(4, 2).T, np.arange(2).repeat(4).reshape(2, 4)]\n",
    "    ).T\n",
    "    - np.array(bmu)\n",
    ").T"
   ]
  },
  {
   "cell_type": "code",
   "execution_count": 39,
   "metadata": {},
   "outputs": [
    {
     "data": {
      "text/plain": [
       "array([[3.16227766, 2.23606798, 1.41421356, 1.        ],\n",
       "       [3.        , 2.        , 1.        , 0.        ],\n",
       "       [3.16227766, 2.23606798, 1.41421356, 1.        ],\n",
       "       [3.60555128, 2.82842712, 2.23606798, 2.        ]])"
      ]
     },
     "execution_count": 39,
     "metadata": {},
     "output_type": "execute_result"
    }
   ],
   "source": [
    "bmu = (3, 1)\n",
    "M = 4\n",
    "N = 4\n",
    "np.linalg.norm(\n",
    "    (\n",
    "        np.array(\n",
    "            [\n",
    "                np.arange(N).repeat(M).reshape(N, M).T,\n",
    "                np.arange(M).repeat(N).reshape(M, N),\n",
    "            ]\n",
    "        ).T\n",
    "        - np.array(bmu)\n",
    "    ),\n",
    "    axis=2,\n",
    ").T"
   ]
  },
  {
   "cell_type": "code",
   "execution_count": null,
   "metadata": {},
   "outputs": [],
   "source": []
  }
 ],
 "metadata": {
  "kernelspec": {
   "display_name": "asseco",
   "language": "python",
   "name": "python3"
  },
  "language_info": {
   "codemirror_mode": {
    "name": "ipython",
    "version": 3
   },
   "file_extension": ".py",
   "mimetype": "text/x-python",
   "name": "python",
   "nbconvert_exporter": "python",
   "pygments_lexer": "ipython3",
   "version": "3.10.4"
  }
 },
 "nbformat": 4,
 "nbformat_minor": 2
}
