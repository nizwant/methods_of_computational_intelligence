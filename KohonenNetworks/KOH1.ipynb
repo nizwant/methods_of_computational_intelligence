{
 "cells": [
  {
   "cell_type": "markdown",
   "metadata": {},
   "source": [
    "# implementation"
   ]
  },
  {
   "cell_type": "code",
   "execution_count": 3,
   "metadata": {},
   "outputs": [],
   "source": [
    "import numpy as np\n",
    "import matplotlib.pyplot as plt\n",
    "import pandas as pd"
   ]
  },
  {
   "cell_type": "code",
   "execution_count": 84,
   "metadata": {},
   "outputs": [],
   "source": [
    "class kohonen:\n",
    "\n",
    "    def __init__(self, M, N, X):\n",
    "        self.M = M\n",
    "        self.N = N\n",
    "        self.learning_rate = 0.1\n",
    "        self.input_dim = X.shape[1]\n",
    "        minimum = np.min(X, axis=0)\n",
    "        maximum = np.max(X, axis=0)\n",
    "        self.weights = np.random.uniform(0, 1, (self.input_dim, M, N))\n",
    "        for i in range(self.input_dim):\n",
    "            self.weights[i] = minimum[i] + (maximum[i] - minimum[i]) * self.weights[i]\n",
    "\n",
    "    def gauss_neighborhood(self, t, T):\n",
    "        return np.exp(-t / T)\n",
    "\n",
    "    # def mexican_hat_neighborhood(self, t, T):\n",
    "    #     return np.exp(-t / T) * (1 - 2 * t / T)\n",
    "\n",
    "    def euclidean_distance(self, x, y):\n",
    "        return np.linalg.norm(x - y)\n",
    "\n",
    "    def slow_down(self, t, iteration_num):\n",
    "        return self.learning_rate * np.exp(-t / iteration_num)\n",
    "\n",
    "    def train(self, X, max_epochs):\n",
    "        for epoch in range(max_epochs):\n",
    "            X = np.random.permutation(X)\n",
    "            for x in X:\n",
    "                bmu = None\n",
    "                bmu_distance = np.inf\n",
    "                for i in range(self.M):\n",
    "                    for j in range(self.N):\n",
    "                        distance = self.euclidean_distance(x, self.weights[:, i, j])\n",
    "                        if distance < bmu_distance:\n",
    "                            bmu_distance = distance\n",
    "                            bmu = (i, j)\n",
    "\n",
    "                for i in range(self.M):\n",
    "                    for j in range(self.N):\n",
    "                        distance = self.euclidean_distance(\n",
    "                            np.array(bmu), np.array([i, j])\n",
    "                        )\n",
    "                        self.weights[:, i, j] += (\n",
    "                            self.slow_down(epoch, max_epochs)\n",
    "                            * self.gauss_neighborhood(distance, max(self.M, self.N))\n",
    "                            * (x - self.weights[:, i, j])\n",
    "                        )\n",
    "\n",
    "    def predict(self, X):\n",
    "        return np.array(\n",
    "            [\n",
    "                [\n",
    "                    np.argmin(\n",
    "                        [\n",
    "                            self.euclidean_distance(x, self.weights[:, i, j])\n",
    "                            for i in range(self.M)\n",
    "                            for j in range(self.N)\n",
    "                        ]\n",
    "                    )\n",
    "                    for x in X\n",
    "                ]\n",
    "            ]\n",
    "        ).T"
   ]
  },
  {
   "cell_type": "code",
   "execution_count": 8,
   "metadata": {},
   "outputs": [],
   "source": [
    "X = pd.DataFrame(np.random.uniform(-1, 4, (10, 2)), columns=[\"x\", \"y\"]).to_numpy()"
   ]
  },
  {
   "cell_type": "code",
   "execution_count": 9,
   "metadata": {},
   "outputs": [],
   "source": [
    "koch = kohonen(10, 10, X)"
   ]
  },
  {
   "cell_type": "code",
   "execution_count": 11,
   "metadata": {},
   "outputs": [
    {
     "data": {
      "text/plain": [
       "Text(0, 0.5, 'y')"
      ]
     },
     "execution_count": 11,
     "metadata": {},
     "output_type": "execute_result"
    },
    {
     "data": {
      "image/png": "[encoded data removed]",
      "text/plain": [
       "<Figure size 640x480 with 1 Axes>"
      ]
     },
     "metadata": {},
     "output_type": "display_data"
    }
   ],
   "source": [
    "# plot scater plot of x\n",
    "plt.scatter(X[:, 0], X[:, 1], label=\"data\")\n",
    "plt.scatter(koch.weights[0], koch.weights[1], c=\"red\", label=\"weights\")\n",
    "plt.legend()\n",
    "plt.title(\"Initial state of the weights\")\n",
    "plt.xlabel(\"x\")\n",
    "plt.ylabel(\"y\")"
   ]
  },
  {
   "cell_type": "code",
   "execution_count": 12,
   "metadata": {},
   "outputs": [],
   "source": [
    "cube = pd.read_csv(\"./../data/kohonen/cube.csv\")"
   ]
  },
  {
   "cell_type": "code",
   "execution_count": 13,
   "metadata": {},
   "outputs": [
    {
     "data": {
      "text/html": [
       "<div>\n",
       "<style scoped>\n",
       "    .dataframe tbody tr th:only-of-type {\n",
       "        vertical-align: middle;\n",
       "    }\n",
       "\n",
       "    .dataframe tbody tr th {\n",
       "        vertical-align: top;\n",
       "    }\n",
       "\n",
       "    .dataframe thead th {\n",
       "        text-align: right;\n",
       "    }\n",
       "</style>\n",
       "<table border=\"1\" class=\"dataframe\">\n",
       "  <thead>\n",
       "    <tr style=\"text-align: right;\">\n",
       "      <th></th>\n",
       "      <th>x</th>\n",
       "      <th>y</th>\n",
       "      <th>z</th>\n",
       "      <th>c</th>\n",
       "    </tr>\n",
       "  </thead>\n",
       "  <tbody>\n",
       "    <tr>\n",
       "      <th>0</th>\n",
       "      <td>0.187781</td>\n",
       "      <td>0.239537</td>\n",
       "      <td>0.382492</td>\n",
       "      <td>0</td>\n",
       "    </tr>\n",
       "    <tr>\n",
       "      <th>1</th>\n",
       "      <td>-1.308979</td>\n",
       "      <td>-0.143321</td>\n",
       "      <td>-0.966648</td>\n",
       "      <td>0</td>\n",
       "    </tr>\n",
       "    <tr>\n",
       "      <th>2</th>\n",
       "      <td>-0.987613</td>\n",
       "      <td>0.679918</td>\n",
       "      <td>-0.037552</td>\n",
       "      <td>0</td>\n",
       "    </tr>\n",
       "    <tr>\n",
       "      <th>3</th>\n",
       "      <td>0.924980</td>\n",
       "      <td>0.607235</td>\n",
       "      <td>-0.146856</td>\n",
       "      <td>0</td>\n",
       "    </tr>\n",
       "    <tr>\n",
       "      <th>4</th>\n",
       "      <td>-0.098663</td>\n",
       "      <td>0.004329</td>\n",
       "      <td>-0.588876</td>\n",
       "      <td>0</td>\n",
       "    </tr>\n",
       "    <tr>\n",
       "      <th>...</th>\n",
       "      <td>...</td>\n",
       "      <td>...</td>\n",
       "      <td>...</td>\n",
       "      <td>...</td>\n",
       "    </tr>\n",
       "    <tr>\n",
       "      <th>1195</th>\n",
       "      <td>2.740583</td>\n",
       "      <td>3.037202</td>\n",
       "      <td>2.723101</td>\n",
       "      <td>7</td>\n",
       "    </tr>\n",
       "    <tr>\n",
       "      <th>1196</th>\n",
       "      <td>2.303258</td>\n",
       "      <td>4.337946</td>\n",
       "      <td>2.798172</td>\n",
       "      <td>7</td>\n",
       "    </tr>\n",
       "    <tr>\n",
       "      <th>1197</th>\n",
       "      <td>3.528407</td>\n",
       "      <td>4.575523</td>\n",
       "      <td>1.406155</td>\n",
       "      <td>7</td>\n",
       "    </tr>\n",
       "    <tr>\n",
       "      <th>1198</th>\n",
       "      <td>2.236023</td>\n",
       "      <td>3.901189</td>\n",
       "      <td>1.529630</td>\n",
       "      <td>7</td>\n",
       "    </tr>\n",
       "    <tr>\n",
       "      <th>1199</th>\n",
       "      <td>2.735838</td>\n",
       "      <td>4.306381</td>\n",
       "      <td>2.097501</td>\n",
       "      <td>7</td>\n",
       "    </tr>\n",
       "  </tbody>\n",
       "</table>\n",
       "<p>1200 rows × 4 columns</p>\n",
       "</div>"
      ],
      "text/plain": [
       "             x         y         z  c\n",
       "0     0.187781  0.239537  0.382492  0\n",
       "1    -1.308979 -0.143321 -0.966648  0\n",
       "2    -0.987613  0.679918 -0.037552  0\n",
       "3     0.924980  0.607235 -0.146856  0\n",
       "4    -0.098663  0.004329 -0.588876  0\n",
       "...        ...       ...       ... ..\n",
       "1195  2.740583  3.037202  2.723101  7\n",
       "1196  2.303258  4.337946  2.798172  7\n",
       "1197  3.528407  4.575523  1.406155  7\n",
       "1198  2.236023  3.901189  1.529630  7\n",
       "1199  2.735838  4.306381  2.097501  7\n",
       "\n",
       "[1200 rows x 4 columns]"
      ]
     },
     "execution_count": 13,
     "metadata": {},
     "output_type": "execute_result"
    }
   ],
   "source": [
    "cube"
   ]
  },
  {
   "cell_type": "code",
   "execution_count": 14,
   "metadata": {},
   "outputs": [
    {
     "data": {
      "text/plain": [
       "array([[ 0.18778137,  0.23953673,  0.38249179],\n",
       "       [-1.30897874, -0.14332141, -0.96664771],\n",
       "       [-0.98761285,  0.67991821, -0.03755176],\n",
       "       ...,\n",
       "       [ 3.5284065 ,  4.57552275,  1.40615516],\n",
       "       [ 2.2360228 ,  3.90118929,  1.52962956],\n",
       "       [ 2.73583781,  4.30638078,  2.09750075]])"
      ]
     },
     "execution_count": 14,
     "metadata": {},
     "output_type": "execute_result"
    }
   ],
   "source": [
    "cube_x = cube.drop(\"c\", axis=1).to_numpy()\n",
    "cube_x"
   ]
  },
  {
   "cell_type": "code",
   "execution_count": 85,
   "metadata": {},
   "outputs": [
    {
     "name": "stdout",
     "output_type": "stream",
     "text": [
      "[[[-1.71809391  0.43836144 -1.48064045  3.76220907]\n",
      "  [ 4.7957563   4.30437982  1.04024417  3.8921913 ]]\n",
      "\n",
      " [[ 0.77415185  2.89246057  0.75518226 -0.66546427]\n",
      "  [ 6.0406084   2.5407059   3.67959005  3.48077668]]\n",
      "\n",
      " [[ 0.1702993   1.7799262   0.03615767  3.10631091]\n",
      "  [ 0.13279165  1.56042999  3.38760162  1.18124916]]]\n"
     ]
    }
   ],
   "source": [
    "kohon = kohonen(2, 4, cube_x)\n",
    "print(kohon.weights)"
   ]
  },
  {
   "cell_type": "code",
   "execution_count": 86,
   "metadata": {},
   "outputs": [],
   "source": [
    "kohon.train(cube_x, 100)"
   ]
  },
  {
   "cell_type": "code",
   "execution_count": 87,
   "metadata": {},
   "outputs": [],
   "source": [
    "cube[\"predicted\"] = kohon.predict(cube_x)"
   ]
  },
  {
   "cell_type": "code",
   "execution_count": 88,
   "metadata": {},
   "outputs": [
    {
     "data": {
      "text/html": [
       "<div>\n",
       "<style scoped>\n",
       "    .dataframe tbody tr th:only-of-type {\n",
       "        vertical-align: middle;\n",
       "    }\n",
       "\n",
       "    .dataframe tbody tr th {\n",
       "        vertical-align: top;\n",
       "    }\n",
       "\n",
       "    .dataframe thead th {\n",
       "        text-align: right;\n",
       "    }\n",
       "</style>\n",
       "<table border=\"1\" class=\"dataframe\">\n",
       "  <thead>\n",
       "    <tr style=\"text-align: right;\">\n",
       "      <th></th>\n",
       "      <th>x</th>\n",
       "      <th>y</th>\n",
       "      <th>z</th>\n",
       "      <th>c</th>\n",
       "      <th>predicted</th>\n",
       "    </tr>\n",
       "  </thead>\n",
       "  <tbody>\n",
       "    <tr>\n",
       "      <th>0</th>\n",
       "      <td>0.187781</td>\n",
       "      <td>0.239537</td>\n",
       "      <td>0.382492</td>\n",
       "      <td>0</td>\n",
       "      <td>7</td>\n",
       "    </tr>\n",
       "    <tr>\n",
       "      <th>1</th>\n",
       "      <td>-1.308979</td>\n",
       "      <td>-0.143321</td>\n",
       "      <td>-0.966648</td>\n",
       "      <td>0</td>\n",
       "      <td>7</td>\n",
       "    </tr>\n",
       "    <tr>\n",
       "      <th>2</th>\n",
       "      <td>-0.987613</td>\n",
       "      <td>0.679918</td>\n",
       "      <td>-0.037552</td>\n",
       "      <td>0</td>\n",
       "      <td>7</td>\n",
       "    </tr>\n",
       "    <tr>\n",
       "      <th>3</th>\n",
       "      <td>0.924980</td>\n",
       "      <td>0.607235</td>\n",
       "      <td>-0.146856</td>\n",
       "      <td>0</td>\n",
       "      <td>7</td>\n",
       "    </tr>\n",
       "    <tr>\n",
       "      <th>4</th>\n",
       "      <td>-0.098663</td>\n",
       "      <td>0.004329</td>\n",
       "      <td>-0.588876</td>\n",
       "      <td>0</td>\n",
       "      <td>7</td>\n",
       "    </tr>\n",
       "    <tr>\n",
       "      <th>...</th>\n",
       "      <td>...</td>\n",
       "      <td>...</td>\n",
       "      <td>...</td>\n",
       "      <td>...</td>\n",
       "      <td>...</td>\n",
       "    </tr>\n",
       "    <tr>\n",
       "      <th>1195</th>\n",
       "      <td>2.740583</td>\n",
       "      <td>3.037202</td>\n",
       "      <td>2.723101</td>\n",
       "      <td>7</td>\n",
       "      <td>0</td>\n",
       "    </tr>\n",
       "    <tr>\n",
       "      <th>1196</th>\n",
       "      <td>2.303258</td>\n",
       "      <td>4.337946</td>\n",
       "      <td>2.798172</td>\n",
       "      <td>7</td>\n",
       "      <td>0</td>\n",
       "    </tr>\n",
       "    <tr>\n",
       "      <th>1197</th>\n",
       "      <td>3.528407</td>\n",
       "      <td>4.575523</td>\n",
       "      <td>1.406155</td>\n",
       "      <td>7</td>\n",
       "      <td>0</td>\n",
       "    </tr>\n",
       "    <tr>\n",
       "      <th>1198</th>\n",
       "      <td>2.236023</td>\n",
       "      <td>3.901189</td>\n",
       "      <td>1.529630</td>\n",
       "      <td>7</td>\n",
       "      <td>0</td>\n",
       "    </tr>\n",
       "    <tr>\n",
       "      <th>1199</th>\n",
       "      <td>2.735838</td>\n",
       "      <td>4.306381</td>\n",
       "      <td>2.097501</td>\n",
       "      <td>7</td>\n",
       "      <td>0</td>\n",
       "    </tr>\n",
       "  </tbody>\n",
       "</table>\n",
       "<p>1200 rows × 5 columns</p>\n",
       "</div>"
      ],
      "text/plain": [
       "             x         y         z  c  predicted\n",
       "0     0.187781  0.239537  0.382492  0          7\n",
       "1    -1.308979 -0.143321 -0.966648  0          7\n",
       "2    -0.987613  0.679918 -0.037552  0          7\n",
       "3     0.924980  0.607235 -0.146856  0          7\n",
       "4    -0.098663  0.004329 -0.588876  0          7\n",
       "...        ...       ...       ... ..        ...\n",
       "1195  2.740583  3.037202  2.723101  7          0\n",
       "1196  2.303258  4.337946  2.798172  7          0\n",
       "1197  3.528407  4.575523  1.406155  7          0\n",
       "1198  2.236023  3.901189  1.529630  7          0\n",
       "1199  2.735838  4.306381  2.097501  7          0\n",
       "\n",
       "[1200 rows x 5 columns]"
      ]
     },
     "execution_count": 88,
     "metadata": {},
     "output_type": "execute_result"
    }
   ],
   "source": [
    "cube"
   ]
  },
  {
   "cell_type": "code",
   "execution_count": 89,
   "metadata": {},
   "outputs": [
    {
     "data": {
      "text/plain": [
       "0.7693572081482147"
      ]
     },
     "execution_count": 89,
     "metadata": {},
     "output_type": "execute_result"
    }
   ],
   "source": [
    "from sklearn.metrics import v_measure_score\n",
    "\n",
    "v_measure_score(cube[\"c\"], cube[\"predicted\"])"
   ]
  },
  {
   "cell_type": "code",
   "execution_count": null,
   "metadata": {},
   "outputs": [],
   "source": []
  },
  {
   "cell_type": "code",
   "execution_count": null,
   "metadata": {},
   "outputs": [],
   "source": []
  },
  {
   "cell_type": "code",
   "execution_count": null,
   "metadata": {},
   "outputs": [],
   "source": []
  }
 ],
 "metadata": {
  "kernelspec": {
   "display_name": "asseco",
   "language": "python",
   "name": "python3"
  },
  "language_info": {
   "codemirror_mode": {
    "name": "ipython",
    "version": 3
   },
   "file_extension": ".py",
   "mimetype": "text/x-python",
   "name": "python",
   "nbconvert_exporter": "python",
   "pygments_lexer": "ipython3",
   "version": "3.10.4"
  }
 },
 "nbformat": 4,
 "nbformat_minor": 2
}
