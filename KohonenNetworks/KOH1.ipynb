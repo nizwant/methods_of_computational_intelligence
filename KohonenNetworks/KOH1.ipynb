{
 "cells": [
  {
   "cell_type": "markdown",
   "metadata": {},
   "source": [
    "# implementation"
   ]
  },
  {
   "cell_type": "code",
   "execution_count": 3,
   "metadata": {},
   "outputs": [],
   "source": [
    "import numpy as np\n",
    "import matplotlib.pyplot as plt\n",
    "import pandas as pd"
   ]
  },
  {
   "cell_type": "code",
   "execution_count": 4,
   "metadata": {},
   "outputs": [],
   "source": [
    "class kohonen:\n",
    "\n",
    "    def __init__(self, M, N, X):\n",
    "        self.M = M\n",
    "        self.N = N\n",
    "        self.learning_rate = 0.1\n",
    "        self.input_dim = X.shape[1]\n",
    "        minimum = np.min(X, axis=0)\n",
    "        maximum = np.max(X, axis=0)\n",
    "        self.weights = np.random.uniform(0, 1, (self.input_dim, M, N))\n",
    "        for i in range(self.input_dim):\n",
    "            self.weights[i] = minimum[i] + (maximum[i] - minimum[i]) * self.weights[i]\n",
    "\n",
    "    def gauss_neighborhood(self, t, T):\n",
    "        return np.exp(-t / T)\n",
    "\n",
    "    def mexican_hat_neighborhood(self, t, T):\n",
    "        return np.exp(-t / T) * (1 - 2 * t / T)\n",
    "\n",
    "    def euclidean_distance(self, x, y):\n",
    "        return np.linalg.norm(x - y)\n",
    "\n",
    "    def slow_down(self, t, iteration_num):\n",
    "        return self.learning_rate * np.exp(-t / iteration_num)\n",
    "\n",
    "    def train(self, X, epochs, neighborhood_function, neighborhood_radius):\n",
    "        for epoch in range(epochs):\n",
    "            for x in X:\n",
    "                pass"
   ]
  },
  {
   "cell_type": "code",
   "execution_count": 8,
   "metadata": {},
   "outputs": [],
   "source": [
    "X = pd.DataFrame(np.random.uniform(-1, 4, (10, 2)), columns=[\"x\", \"y\"]).to_numpy()"
   ]
  },
  {
   "cell_type": "code",
   "execution_count": 9,
   "metadata": {},
   "outputs": [],
   "source": [
    "koch = kohonen(10, 10, X)"
   ]
  },
  {
   "cell_type": "code",
   "execution_count": 10,
   "metadata": {},
   "outputs": [
    {
     "data": {
      "text/plain": [
       "<matplotlib.collections.PathCollection at 0x7f8881b154e0>"
      ]
     },
     "execution_count": 10,
     "metadata": {},
     "output_type": "execute_result"
    },
    {
     "data": {
      "image/png": "[encoded data removed]",
      "text/plain": [
       "<Figure size 640x480 with 1 Axes>"
      ]
     },
     "metadata": {},
     "output_type": "display_data"
    }
   ],
   "source": [
    "# plot scater plot of x\n",
    "plt.scatter(X[:, 0], X[:, 1])\n",
    "plt.scatter(koch.weights[0], koch.weights[1], c=\"red\")"
   ]
  },
  {
   "cell_type": "code",
   "execution_count": null,
   "metadata": {},
   "outputs": [],
   "source": []
  }
 ],
 "metadata": {
  "kernelspec": {
   "display_name": "asseco",
   "language": "python",
   "name": "python3"
  },
  "language_info": {
   "codemirror_mode": {
    "name": "ipython",
    "version": 3
   },
   "file_extension": ".py",
   "mimetype": "text/x-python",
   "name": "python",
   "nbconvert_exporter": "python",
   "pygments_lexer": "ipython3",
   "version": "3.10.4"
  }
 },
 "nbformat": 4,
 "nbformat_minor": 2
}
