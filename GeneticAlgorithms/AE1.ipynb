{
 "cells": [
  {
   "cell_type": "code",
   "execution_count": 1,
   "metadata": {},
   "outputs": [],
   "source": [
    "import numpy as np\n",
    "import matplotlib.pyplot as plt\n",
    "import pandas as pd"
   ]
  },
  {
   "cell_type": "markdown",
   "metadata": {},
   "source": [
    "### implementation of basic ae"
   ]
  },
  {
   "cell_type": "code",
   "execution_count": null,
   "metadata": {},
   "outputs": [],
   "source": [
    "class Evolutionary_Algorithm:\n",
    "    __slots__ = [\n",
    "        \"mutation_rate\",\n",
    "        \"crossover_rate\",\n",
    "        \"number_of_generations\",\n",
    "        \"population_size\",\n",
    "        \"function_to_optimize\",\n",
    "        \"population\",\n",
    "        \"problem_dim\",\n",
    "    ]\n",
    "\n",
    "    def __init__(\n",
    "        self,\n",
    "        mutation_rate=0.7,\n",
    "        crossover_rate=0.7,\n",
    "        number_of_generations=50,\n",
    "        population_size=100,\n",
    "    ):\n",
    "        self.population_size = population_size\n",
    "        self.number_of_generations = number_of_generations\n",
    "        self.mutation_rate = mutation_rate\n",
    "        self.crossover_rate = crossover_rate\n",
    "        self.function_to_optimize = None\n",
    "        self.population = None\n",
    "        self.problem_dim = None\n",
    "\n",
    "    def _generate_population(self, n_genes):\n",
    "        self.population = np.random.uniform(-10, 10, (self.population_size, n_genes))\n",
    "\n",
    "    def _mutation(self, individual):\n",
    "        for i in range(len(individual)):\n",
    "            if np.random.rand() < self.mutation_rate:\n",
    "                individual += np.random.normal(0, 1, self.problem_dim)\n",
    "        return individual\n",
    "\n",
    "    def _crossover(self, parent1, parent2):\n",
    "        if np.random.rand() < self.crossover_rate:\n",
    "            crossover_point = np.random.randint(1, self.problem_dim - 1)\n",
    "            child1 = np.concatenate(\n",
    "                (parent1[:crossover_point], parent2[crossover_point:])\n",
    "            )\n",
    "            child2 = np.concatenate(\n",
    "                (parent2[:crossover_point], parent1[crossover_point:])\n",
    "            )\n",
    "            return child1, child2\n",
    "        return parent1, parent2\n",
    "\n",
    "    def _evaluate_population(self):\n",
    "        fitness = np.zeros(len(self.population))\n",
    "        for i, individual in enumerate(self.population):\n",
    "            fitness[i] = self.function_to_optimize(individual)\n",
    "        return fitness\n",
    "\n",
    "    def _select_individual(self, fitness):\n",
    "        pass\n",
    "\n",
    "    def _visualize_individual(self, individual):\n",
    "        print(individual)\n",
    "\n",
    "    def optimize(self, function_to_optimize):\n",
    "        self.function_to_optimize = function_to_optimize\n",
    "        self.problem_dim = function_to_optimize.__code__.co_argcount\n",
    "        self._generate_population(self.problem_dim)\n",
    "        for generation in range(self.number_of_generations):\n",
    "            fitness = self._evaluate_population()\n",
    "            new_population = np.zeros((self.population_size, self.problem_dim))\n",
    "            for i in range(0, self.population_size, 2):\n",
    "                parent1 = self._select_individual(fitness)\n",
    "                parent2 = self._select_individual(fitness)\n",
    "                child1, child2 = self._crossover(parent1, parent2)\n",
    "                new_population[i] = self._mutation(child1)\n",
    "                new_population[i + 1] = self._mutation(child2)\n",
    "            self.population = new_population\n",
    "        best_individual = self.population[np.argmax(fitness)]\n",
    "        return best_individual"
   ]
  },
  {
   "cell_type": "markdown",
   "metadata": {},
   "source": [
    "### definition of objective functions "
   ]
  },
  {
   "cell_type": "code",
   "execution_count": 1,
   "metadata": {},
   "outputs": [],
   "source": [
    "def rastrigin(*args):\n",
    "    return 10 * len(args) + np.sum(args**2 - 10 * np.cos(2 * np.pi * args))\n",
    "\n",
    "\n",
    "def rastrigin_5d(x, y, z, w, v):\n",
    "    return rastrigin(x, y, z, w, v)\n",
    "\n",
    "\n",
    "def quadratic_3d(x, y, z):\n",
    "    return x**2 + y**2 + 2 * z**2"
   ]
  },
  {
   "cell_type": "code",
   "execution_count": null,
   "metadata": {},
   "outputs": [],
   "source": []
  }
 ],
 "metadata": {
  "kernelspec": {
   "display_name": "asseco",
   "language": "python",
   "name": "python3"
  },
  "language_info": {
   "codemirror_mode": {
    "name": "ipython",
    "version": 3
   },
   "file_extension": ".py",
   "mimetype": "text/x-python",
   "name": "python",
   "nbconvert_exporter": "python",
   "pygments_lexer": "ipython3",
   "version": "3.10.4"
  }
 },
 "nbformat": 4,
 "nbformat_minor": 2
}
