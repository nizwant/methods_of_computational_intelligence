{
 "cells": [
  {
   "cell_type": "code",
   "execution_count": 4,
   "metadata": {},
   "outputs": [],
   "source": [
    "import numpy as np\n",
    "import matplotlib.pyplot as plt\n",
    "import pandas as pd"
   ]
  },
  {
   "cell_type": "markdown",
   "metadata": {},
   "source": [
    "### implementation of basic ae"
   ]
  },
  {
   "cell_type": "code",
   "execution_count": 59,
   "metadata": {},
   "outputs": [],
   "source": [
    "class Evolutionary_Algorithm:\n",
    "    __slots__ = [\n",
    "        \"mutation_rate\",\n",
    "        \"crossover_rate\",\n",
    "        \"number_of_generations\",\n",
    "        \"population_size\",\n",
    "        \"function_to_optimize\",\n",
    "        \"population\",\n",
    "        \"problem_dim\",\n",
    "        \"hall_of_fame\",\n",
    "    ]\n",
    "\n",
    "    def __init__(\n",
    "        self,\n",
    "        mutation_rate=0.7,\n",
    "        crossover_rate=0.7,\n",
    "        number_of_generations=50,\n",
    "        population_size=100,\n",
    "    ):\n",
    "        self.population_size = population_size\n",
    "        self.number_of_generations = number_of_generations\n",
    "        self.mutation_rate = mutation_rate\n",
    "        self.crossover_rate = crossover_rate\n",
    "        self.function_to_optimize = None\n",
    "        self.population = None\n",
    "        self.problem_dim = None\n",
    "        self.hall_of_fame = []\n",
    "\n",
    "    def _generate_population(self, n_genes):\n",
    "        self.population = np.random.uniform(-10, 10, (self.population_size, n_genes))\n",
    "\n",
    "    def _mutation(self, individual):\n",
    "        for i in range(len(individual)):\n",
    "            if np.random.rand() < self.mutation_rate:\n",
    "                individual += np.random.normal(0, 1, self.problem_dim)\n",
    "        return individual\n",
    "\n",
    "    def _crossover(self, parent1, parent2):\n",
    "        if np.random.rand() < self.crossover_rate:\n",
    "            crossover_point = np.random.randint(1, self.problem_dim - 1)\n",
    "            child1 = np.concatenate(\n",
    "                (parent1[:crossover_point], parent2[crossover_point:])\n",
    "            )\n",
    "            child2 = np.concatenate(\n",
    "                (parent2[:crossover_point], parent1[crossover_point:])\n",
    "            )\n",
    "            return child1, child2\n",
    "        return parent1, parent2\n",
    "\n",
    "    def _evaluate_population(self):\n",
    "        fitness = np.zeros(len(self.population))\n",
    "        for i, individual in enumerate(self.population):\n",
    "            fitness[i] = self.function_to_optimize(*individual)\n",
    "        self.hall_of_fame.append(np.argsort(fitness)[: int(self.population_size * 0.1)])\n",
    "        return fitness\n",
    "\n",
    "    def _tournament_selection(self, fitness):\n",
    "        fitness = 1 / fitness\n",
    "        probabilities = fitness / np.sum(fitness)\n",
    "        return self.population[\n",
    "            np.random.choice(range(self.population), p=probabilities)\n",
    "        ]\n",
    "\n",
    "    def _select_individual(self):\n",
    "        return self.population[np.random.choice(range(self.population_size))]\n",
    "\n",
    "    def _visualize_individual(self, individual):\n",
    "        print(individual)\n",
    "\n",
    "    def optimize(self, function_to_optimize):\n",
    "        # initialize the population\n",
    "        self.function_to_optimize = function_to_optimize\n",
    "        self.problem_dim = function_to_optimize.__code__.co_argcount\n",
    "        self._generate_population(self.problem_dim)\n",
    "\n",
    "        for generation in range(self.number_of_generations):\n",
    "\n",
    "            # crossover\n",
    "            for _ in range(0, self.population_size, 2):\n",
    "                parent1 = self._select_individual()\n",
    "                parent2 = self._select_individual()\n",
    "                child1, child2 = self._crossover(parent1, parent2)\n",
    "                self.population = np.vstack([self.population, child1])\n",
    "                self.population = np.vstack([self.population, child2])\n",
    "\n",
    "            # mutation\n",
    "            for _ in range(self.population_size):\n",
    "                individual = self._select_individual()\n",
    "                self.population = np.vstack(\n",
    "                    [self.population, self._mutation(individual)]\n",
    "                )\n",
    "\n",
    "            # evaluate the population and select the best individuals\n",
    "            fitness = self._evaluate_population()\n",
    "            self.population = self._tournament_selection(fitness)\n",
    "            print(\n",
    "                f\"iteration {generation} best fitness: {np.min(fitness)} for individual {self.population[self.hall_of_fame[-1][0]]}\"\n",
    "            )"
   ]
  },
  {
   "cell_type": "markdown",
   "metadata": {},
   "source": [
    "### definition of objective functions "
   ]
  },
  {
   "cell_type": "code",
   "execution_count": 60,
   "metadata": {},
   "outputs": [],
   "source": [
    "def rastrigin(*args):\n",
    "    return 10 * len(args) + np.sum(args**2 - 10 * np.cos(2 * np.pi * args))\n",
    "\n",
    "\n",
    "def rastrigin_5d(x, y, z, w, v):\n",
    "    return rastrigin(x, y, z, w, v)\n",
    "\n",
    "\n",
    "def quadratic_3d(x, y, z):\n",
    "    return x**2 + y**2 + 2 * z**2"
   ]
  },
  {
   "cell_type": "code",
   "execution_count": 61,
   "metadata": {},
   "outputs": [
    {
     "ename": "TypeError",
     "evalue": "only integer scalar arrays can be converted to a scalar index",
     "output_type": "error",
     "traceback": [
      "\u001b[0;31m---------------------------------------------------------------------------\u001b[0m",
      "\u001b[0;31mTypeError\u001b[0m                                 Traceback (most recent call last)",
      "Cell \u001b[0;32mIn[61], line 2\u001b[0m\n\u001b[1;32m      1\u001b[0m ea \u001b[38;5;241m=\u001b[39m Evolutionary_Algorithm()\n\u001b[0;32m----> 2\u001b[0m \u001b[43mea\u001b[49m\u001b[38;5;241;43m.\u001b[39;49m\u001b[43moptimize\u001b[49m\u001b[43m(\u001b[49m\u001b[43mquadratic_3d\u001b[49m\u001b[43m)\u001b[49m\n",
      "Cell \u001b[0;32mIn[59], line 95\u001b[0m, in \u001b[0;36mEvolutionary_Algorithm.optimize\u001b[0;34m(self, function_to_optimize)\u001b[0m\n\u001b[1;32m     93\u001b[0m \u001b[38;5;66;03m# evaluate the population and select the best individuals\u001b[39;00m\n\u001b[1;32m     94\u001b[0m fitness \u001b[38;5;241m=\u001b[39m \u001b[38;5;28mself\u001b[39m\u001b[38;5;241m.\u001b[39m_evaluate_population()\n\u001b[0;32m---> 95\u001b[0m \u001b[38;5;28mself\u001b[39m\u001b[38;5;241m.\u001b[39mpopulation \u001b[38;5;241m=\u001b[39m \u001b[38;5;28;43mself\u001b[39;49m\u001b[38;5;241;43m.\u001b[39;49m\u001b[43m_tournament_selection\u001b[49m\u001b[43m(\u001b[49m\u001b[43mfitness\u001b[49m\u001b[43m)\u001b[49m\n\u001b[1;32m     96\u001b[0m \u001b[38;5;28mprint\u001b[39m(\n\u001b[1;32m     97\u001b[0m     \u001b[38;5;124mf\u001b[39m\u001b[38;5;124m\"\u001b[39m\u001b[38;5;124miteration \u001b[39m\u001b[38;5;132;01m{\u001b[39;00mgeneration\u001b[38;5;132;01m}\u001b[39;00m\u001b[38;5;124m best fitness: \u001b[39m\u001b[38;5;132;01m{\u001b[39;00mnp\u001b[38;5;241m.\u001b[39mmin(fitness)\u001b[38;5;132;01m}\u001b[39;00m\u001b[38;5;124m for individual \u001b[39m\u001b[38;5;132;01m{\u001b[39;00m\u001b[38;5;28mself\u001b[39m\u001b[38;5;241m.\u001b[39mpopulation[\u001b[38;5;28mself\u001b[39m\u001b[38;5;241m.\u001b[39mhall_of_fame[\u001b[38;5;241m-\u001b[39m\u001b[38;5;241m1\u001b[39m][\u001b[38;5;241m0\u001b[39m]]\u001b[38;5;132;01m}\u001b[39;00m\u001b[38;5;124m\"\u001b[39m\n\u001b[1;32m     98\u001b[0m )\n",
      "Cell \u001b[0;32mIn[59], line 61\u001b[0m, in \u001b[0;36mEvolutionary_Algorithm._tournament_selection\u001b[0;34m(self, fitness)\u001b[0m\n\u001b[1;32m     58\u001b[0m fitness \u001b[38;5;241m=\u001b[39m \u001b[38;5;241m1\u001b[39m \u001b[38;5;241m/\u001b[39m fitness\n\u001b[1;32m     59\u001b[0m probabilities \u001b[38;5;241m=\u001b[39m fitness \u001b[38;5;241m/\u001b[39m np\u001b[38;5;241m.\u001b[39msum(fitness)\n\u001b[1;32m     60\u001b[0m \u001b[38;5;28;01mreturn\u001b[39;00m \u001b[38;5;28mself\u001b[39m\u001b[38;5;241m.\u001b[39mpopulation[\n\u001b[0;32m---> 61\u001b[0m     np\u001b[38;5;241m.\u001b[39mrandom\u001b[38;5;241m.\u001b[39mchoice(\u001b[38;5;28;43mrange\u001b[39;49m\u001b[43m(\u001b[49m\u001b[38;5;28;43mself\u001b[39;49m\u001b[38;5;241;43m.\u001b[39;49m\u001b[43mpopulation\u001b[49m\u001b[43m)\u001b[49m, p\u001b[38;5;241m=\u001b[39mprobabilities)\n\u001b[1;32m     62\u001b[0m ]\n",
      "\u001b[0;31mTypeError\u001b[0m: only integer scalar arrays can be converted to a scalar index"
     ]
    }
   ],
   "source": [
    "ea = Evolutionary_Algorithm()\n",
    "ea.optimize(quadratic_3d)"
   ]
  },
  {
   "cell_type": "code",
   "execution_count": null,
   "metadata": {},
   "outputs": [],
   "source": []
  }
 ],
 "metadata": {
  "kernelspec": {
   "display_name": "asseco",
   "language": "python",
   "name": "python3"
  },
  "language_info": {
   "codemirror_mode": {
    "name": "ipython",
    "version": 3
   },
   "file_extension": ".py",
   "mimetype": "text/x-python",
   "name": "python",
   "nbconvert_exporter": "python",
   "pygments_lexer": "ipython3",
   "version": "3.10.4"
  }
 },
 "nbformat": 4,
 "nbformat_minor": 2
}
