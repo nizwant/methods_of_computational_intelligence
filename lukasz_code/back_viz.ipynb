{
 "cells": [
  {
   "cell_type": "code",
   "execution_count": 1,
   "metadata": {},
   "outputs": [],
   "source": [
    "import pandas as pd\n",
    "import numpy as np\n",
    "import matplotlib.pyplot as plt\n",
    "from sklearn.metrics import mean_squared_error\n",
    "from main import NeuralNetwork"
   ]
  },
  {
   "cell_type": "code",
   "execution_count": 2,
   "metadata": {},
   "outputs": [
    {
     "data": {
      "text/plain": [
       "<matplotlib.collections.PathCollection at 0x1bf9ab21190>"
      ]
     },
     "execution_count": 2,
     "metadata": {},
     "output_type": "execute_result"
    },
    {
     "data": {
      "image/png": "[encoded data removed]",
      "text/plain": [
       "<Figure size 640x480 with 1 Axes>"
      ]
     },
     "metadata": {},
     "output_type": "display_data"
    }
   ],
   "source": [
    "df = pd.read_csv(\"square-simple-training.csv\")\n",
    "df.drop(df.columns[0], axis=1, inplace=True)\n",
    "# print(df.head())\n",
    "plt.scatter(df['x'], df['y'])"
   ]
  },
  {
   "cell_type": "code",
   "execution_count": null,
   "metadata": {},
   "outputs": [],
   "source": [
    "matrix_1 = np.random.normal(loc=0, size=(1, 10))\n",
    "matrix_2 = np.random.normal(loc=0, size=(10, 1))\n",
    "\n",
    "while np.any(matrix_1 == 0) or np.any(matrix_2==0):\n",
    "    matrix_1 = np.random.normal(loc=0, size=(1, 10))\n",
    "    matrix_2 = np.random.normal(loc=0, size=(10, 1))\n",
    "\n",
    "weights = [matrix_1, matrix_2]\n",
    "biases = [np.random.normal(loc=0, size=(1, 10)), np.random.normal(loc=0, size=(1, 1))]\n",
    "\n",
    "\n",
    "NN = NeuralNetwork(1, [10], weights=weights, biases=biases)\n",
    "NN.gradient_descent(df['x'], df['y'], batch_size=15, learning_rate=0.1, verbose=True)\n",
    "# print(NN.MSE)\n",
    "NN.fit(df['x'], df['y'], batch_size=15, learning_rate=100, epochs=1000, verbose=False)"
   ]
  },
  {
   "cell_type": "code",
   "execution_count": null,
   "metadata": {},
   "outputs": [],
   "source": [
    "print(NN.weights)\n",
    "print(NN.biases)"
   ]
  },
  {
   "cell_type": "code",
   "execution_count": null,
   "metadata": {},
   "outputs": [],
   "source": [
    "plt.scatter(np.arange(0, len(NN.MSE), 1), NN.MSE)"
   ]
  },
  {
   "cell_type": "code",
   "execution_count": null,
   "metadata": {},
   "outputs": [],
   "source": [
    "y_pred = [NN.predict(x) for x in df['x']]\n",
    "\n",
    "fig, ax = plt.subplots()\n",
    "ax.scatter(df['x'], y_pred, color='blue')\n",
    "ax.scatter(df['x'], df['y'], alpha=0.3, color='red')\n",
    "ax.set(xlabel='x', ylabel='y')\n",
    "ax.legend(['predicted', 'real'])\n",
    "plt.show()"
   ]
  },
  {
   "cell_type": "markdown",
   "metadata": {},
   "source": [
    "# Normalized"
   ]
  },
  {
   "cell_type": "code",
   "execution_count": 3,
   "metadata": {},
   "outputs": [
    {
     "name": "stdout",
     "output_type": "stream",
     "text": [
      "__________________________\n",
      "Layer 1:\n",
      "Weights: [[ 0.47495606 -1.94558527  0.41237858  0.54397116  0.8946745  -1.0638428\n",
      "   1.11317268  0.10430041 -1.18963257 -0.02479165]]\n",
      "Biases: [[-1.017471   -0.75361138 -0.77824344 -1.40454175  0.54016285  1.12716984\n",
      "  -0.21901295 -1.07312818 -0.85998842 -1.43646746]]\n",
      "Layer input shape: (1, 1)\n",
      "Layer input: [[-0.5]]\n",
      "Layer output after matrix multiplication and adding biases: (1, 10)\n",
      "Layer output: [[-1.25494903  0.21918125 -0.98443272 -1.67652733  0.0928256   1.65909124\n",
      "  -0.77559929 -1.12527838 -0.26517214 -1.42407163]]\n",
      "Layer output after activation function: [[0.22184461 0.554577   0.27201312 0.15755586 0.52318975 0.84011597\n",
      "  0.31526911 0.24503351 0.43409271 0.19402407]]\n",
      "__________________________\n",
      "Layer 2:\n",
      "Weights: [[ 0.22724237]\n",
      " [-0.53418655]\n",
      " [ 1.3680707 ]\n",
      " [ 0.07419661]\n",
      " [-2.02689497]\n",
      " [-2.17525648]\n",
      " [-0.43050751]\n",
      " [-1.64105986]\n",
      " [ 0.66694924]\n",
      " [-0.43222581]]\n",
      "Biases: [[0.13207992]]\n",
      "Layer input shape: (1, 10)\n",
      "Layer input: [[0.22184461 0.554577   0.27201312 0.15755586 0.52318975 0.84011597\n",
      "  0.31526911 0.24503351 0.43409271 0.19402407]]\n",
      "Layer output after matrix multiplication and adding biases: (1, 1)\n",
      "Layer output: [[-2.95003505]]\n",
      "Layer output after activation function: [[-2.95003505]]\n",
      "z: [[-2.95003505]] | shape:(1, 1)\n",
      "error: [[-3.20003505]] | shape:(1, 1)\n",
      "z: [[-0.5]] | shape:(1, 1)\n",
      "a: [[-0.5]] | shape:(1, 1)\n",
      "error: [[-0.12553339  0.42226217 -0.86691533 -0.03151479  1.61804573  0.9349955\n",
      "   0.29739715  0.97147654 -0.52429449  0.21629333]] | shape:(1, 10)\n",
      "z: [[-2.95003505]] | shape:(1, 1)\n",
      "a: [[-2.95003505]] | shape:(1, 1)\n",
      "error: [[0.05824825]] | shape:(1, 1)\n",
      "__________________________\n",
      "Layer 1:\n",
      "Weights: [[ 0.48354777 -1.93699356  0.4209703   0.55256287  0.90326622 -1.05525108\n",
      "   1.1217644   0.11289212 -1.18104085 -0.01619994]]\n",
      "Biases: [[-1.02038341 -0.7565238  -0.78115585 -1.40745416  0.53725044  1.12425742\n",
      "  -0.22192536 -1.07604059 -0.86290083 -1.43937987]]\n",
      "Layer input shape: (1, 1)\n",
      "Layer input: [[0.]]\n",
      "Layer output after matrix multiplication and adding biases: (1, 10)\n",
      "Layer output: [[-1.02038341 -0.7565238  -0.78115585 -1.40745416  0.53725044  1.12425742\n",
      "  -0.22192536 -1.07604059 -0.86290083 -1.43937987]]\n",
      "Layer output after activation function: [[0.26495272 0.31940146 0.31407083 0.19663591 0.63117257 0.75477757\n",
      "  0.44474525 0.25425603 0.29673363 0.1916414 ]]\n",
      "__________________________\n",
      "Layer 2:\n",
      "Weights: [[ 0.22724237]\n",
      " [-0.53418655]\n",
      " [ 1.3680707 ]\n",
      " [ 0.07419661]\n",
      " [-2.02689497]\n",
      " [-2.17525648]\n",
      " [-0.43050751]\n",
      " [-1.64105986]\n",
      " [ 0.66694924]\n",
      " [-0.43222581]]\n",
      "Biases: [[0.13207992]]\n",
      "Layer input shape: (1, 10)\n",
      "Layer input: [[0.26495272 0.31940146 0.31407083 0.19663591 0.63117257 0.75477757\n",
      "  0.44474525 0.25425603 0.29673363 0.1916414 ]]\n",
      "Layer output after matrix multiplication and adding biases: (1, 1)\n",
      "Layer output: [[-2.94886768]]\n",
      "Layer output after activation function: [[-2.94886768]]\n",
      "z: [[-2.94886768]] | shape:(1, 1)\n",
      "error: [[-2.94886768]] | shape:(1, 1)\n",
      "z: [[0.]] | shape:(1, 1)\n",
      "a: [[0.]] | shape:(1, 1)\n",
      "error: [[-0.13050533  0.34243342 -0.8691019  -0.03456325  1.39141878  1.18725753\n",
      "   0.31350149  0.9175732  -0.41042583  0.19745102]] | shape:(1, 10)\n",
      "z: [[-2.94886768]] | shape:(1, 1)\n",
      "a: [[-2.94886768]] | shape:(1, 1)\n",
      "error: [[-0.0426505]] | shape:(1, 1)\n",
      "__________________________\n",
      "Layer 1:\n",
      "Weights: [[ 0.47725924 -1.94328209  0.41468176  0.54627434  0.89697768 -1.06153962\n",
      "   1.11547586  0.10660359 -1.18732939 -0.02248847]]\n",
      "Biases: [[-1.01825089 -0.75439127 -0.77902332 -1.40532164  0.53938296  1.12638995\n",
      "  -0.21979284 -1.07390806 -0.86076831 -1.43724735]]\n",
      "Layer input shape: (1, 1)\n",
      "Layer input: [[0.5]]\n",
      "Layer output after matrix multiplication and adding biases: (1, 10)\n",
      "Layer output: [[-0.77962127 -1.72603232 -0.57168244 -1.13218447  0.9878718   0.59562014\n",
      "   0.33794509 -1.02060627 -1.454433   -1.44849158]]\n",
      "Layer output after activation function: [[0.31440152 0.15109579 0.3608487  0.24375819 0.72866736 0.64465363\n",
      "  0.58369127 0.26490932 0.18932026 0.19023382]]\n",
      "__________________________\n",
      "Layer 2:\n",
      "Weights: [[ 0.22724237]\n",
      " [-0.53418655]\n",
      " [ 1.3680707 ]\n",
      " [ 0.07419661]\n",
      " [-2.02689497]\n",
      " [-2.17525648]\n",
      " [-0.43050751]\n",
      " [-1.64105986]\n",
      " [ 0.66694924]\n",
      " [-0.43222581]]\n",
      "Biases: [[0.13207992]]\n",
      "Layer input shape: (1, 10)\n",
      "Layer input: [[0.31440152 0.15109579 0.3608487  0.24375819 0.72866736 0.64465363\n",
      "  0.58369127 0.26490932 0.18932026 0.19023382]]\n",
      "Layer output after matrix multiplication and adding biases: (1, 1)\n",
      "Layer output: [[-2.88662719]]\n",
      "Layer output after activation function: [[-2.88662719]]\n",
      "z: [[-2.88662719]] | shape:(1, 1)\n",
      "error: [[-3.13662719]] | shape:(1, 1)\n",
      "z: [[0.5]] | shape:(1, 1)\n",
      "a: [[0.5]] | shape:(1, 1)\n",
      "error: [[-0.15364085  0.21491509 -0.98969247 -0.04290095  1.25697172  1.56297378\n",
      "   0.32812729  1.00236406 -0.32107175  0.2088435 ]] | shape:(1, 10)\n",
      "z: [[-2.88662719]] | shape:(1, 1)\n",
      "a: [[-2.88662719]] | shape:(1, 1)\n",
      "error: [[-0.14267034]] | shape:(1, 1)\n",
      "[array([[0.41183609]]), array([[-0.07682042,  0.10745755, -0.49484624, -0.02145047,  0.62848586,\n",
      "         0.78148689,  0.16406364,  0.50118203, -0.16053587,  0.10442175]])]\n",
      "[array([[-0.14267034]]), array([[-0.15364085,  0.21491509, -0.98969247, -0.04290095,  1.25697172,\n",
      "         1.56297378,  0.32812729,  1.00236406, -0.32107175,  0.2088435 ]])]\n"
     ]
    }
   ],
   "source": [
    "df_normalized = df.copy()\n",
    "df_normalized['x'] = (df['x'] - df['x'].mean()) / df['x'].std()\n",
    "df_normalized['y'] = (df['y'] - df['y'].mean()) / df['y'].std()\n",
    "\n",
    "matrix_1 = np.random.normal(loc=0, size=(1, 10))\n",
    "matrix_2 = np.random.normal(loc=0, size=(10, 1))\n",
    "\n",
    "while np.any(matrix_1 == 0) or np.any(matrix_2==0):\n",
    "    matrix_1 = np.random.normal(loc=0, size=(1, 10))\n",
    "    matrix_2 = np.random.normal(loc=0, size=(10, 1))\n",
    "\n",
    "weights = [matrix_1, matrix_2]\n",
    "biases = [np.random.normal(loc=0, size=(1, 10)), np.random.normal(loc=0, size=(1, 1))]\n",
    "\n",
    "\n",
    "NN = NeuralNetwork(1, [10], weights=weights, biases=biases)\n",
    "# NN.gradient_descent(df['x'], df['y'], batch_size=15, learning_rate=0.1, verbose=True)\n",
    "NN.gradient_descent(pd.Series([-0.5,0,0.5]),pd.Series([0.25,0,0.25]), batch_size=2, learning_rate=0.1, verbose=True)\n",
    "# NN.fit(df_normalized['x'], df_normalized['y'], batch_size=10, learning_rate=0.5, epochs=1000, verbose=False)"
   ]
  },
  {
   "cell_type": "code",
   "execution_count": null,
   "metadata": {},
   "outputs": [],
   "source": [
    "plt.scatter(np.arange(0, len(NN.MSE), 1), NN.MSE)"
   ]
  },
  {
   "cell_type": "code",
   "execution_count": null,
   "metadata": {},
   "outputs": [],
   "source": [
    "y_pred = [NN.predict(x) for x in df_normalized['x']]\n",
    "\n",
    "fig, ax = plt.subplots()\n",
    "ax.scatter(df_normalized['x'], y_pred, color='blue')\n",
    "ax.scatter(df_normalized['x'], df_normalized['y'], alpha=0.3, color='red')\n",
    "ax.set(xlabel='x', ylabel='y')\n",
    "ax.legend(['predicted', 'real'])\n",
    "plt.show()"
   ]
  },
  {
   "cell_type": "code",
   "execution_count": null,
   "metadata": {},
   "outputs": [],
   "source": []
  }
 ],
 "metadata": {
  "kernelspec": {
   "display_name": "base",
   "language": "python",
   "name": "python3"
  },
  "language_info": {
   "codemirror_mode": {
    "name": "ipython",
    "version": 3
   },
   "file_extension": ".py",
   "mimetype": "text/x-python",
   "name": "python",
   "nbconvert_exporter": "python",
   "pygments_lexer": "ipython3",
   "version": "3.9.13"
  }
 },
 "nbformat": 4,
 "nbformat_minor": 2
}
